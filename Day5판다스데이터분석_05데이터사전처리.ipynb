{
  "cells": [
    {
      "cell_type": "markdown",
      "metadata": {
        "colab_type": "text",
        "id": "view-in-github"
      },
      "source": [
        "<a href=\"https://colab.research.google.com/github/wnsmir/DSBA5/blob/main/Day5%E1%84%91%E1%85%A1%E1%86%AB%E1%84%83%E1%85%A1%E1%84%89%E1%85%B3%E1%84%83%E1%85%A6%E1%84%8B%E1%85%B5%E1%84%90%E1%85%A5%E1%84%87%E1%85%AE%E1%86%AB%E1%84%89%E1%85%A5%E1%86%A8_05%E1%84%83%E1%85%A6%E1%84%8B%E1%85%B5%E1%84%90%E1%85%A5%E1%84%89%E1%85%A1%E1%84%8C%E1%85%A5%E1%86%AB%E1%84%8E%E1%85%A5%E1%84%85%E1%85%B5.ipynb\" target=\"_parent\"><img src=\"https://colab.research.google.com/assets/colab-badge.svg\" alt=\"Open In Colab\"/></a>"
      ]
    },
    {
      "cell_type": "markdown",
      "metadata": {
        "id": "nRNyZ6fWnQd-"
      },
      "source": [
        "# **05 데이터 사전처리**"
      ]
    },
    {
      "cell_type": "markdown",
      "metadata": {
        "id": "_UJ2kn5zpt6H"
      },
      "source": [
        "# 1. 누락 데이터 처리\n",
        "### 1. 누락 데이터 확인"
      ]
    },
    {
      "cell_type": "code",
      "execution_count": null,
      "metadata": {
        "colab": {
          "base_uri": "https://localhost:8080/",
          "height": 206
        },
        "id": "wIJlc8qr-pUN",
        "outputId": "ac377a05-18e5-4d9c-a378-138f59339543"
      },
      "outputs": [
        {
          "data": {
            "text/html": [
              "\n",
              "  <div id=\"df-52db1157-c917-410f-a2fe-441c5bbe4425\">\n",
              "    <div class=\"colab-df-container\">\n",
              "      <div>\n",
              "<style scoped>\n",
              "    .dataframe tbody tr th:only-of-type {\n",
              "        vertical-align: middle;\n",
              "    }\n",
              "\n",
              "    .dataframe tbody tr th {\n",
              "        vertical-align: top;\n",
              "    }\n",
              "\n",
              "    .dataframe thead th {\n",
              "        text-align: right;\n",
              "    }\n",
              "</style>\n",
              "<table border=\"1\" class=\"dataframe\">\n",
              "  <thead>\n",
              "    <tr style=\"text-align: right;\">\n",
              "      <th></th>\n",
              "      <th>survived</th>\n",
              "      <th>pclass</th>\n",
              "      <th>sex</th>\n",
              "      <th>age</th>\n",
              "      <th>sibsp</th>\n",
              "      <th>parch</th>\n",
              "      <th>fare</th>\n",
              "      <th>embarked</th>\n",
              "      <th>class</th>\n",
              "      <th>who</th>\n",
              "      <th>adult_male</th>\n",
              "      <th>deck</th>\n",
              "      <th>embark_town</th>\n",
              "      <th>alive</th>\n",
              "      <th>alone</th>\n",
              "    </tr>\n",
              "  </thead>\n",
              "  <tbody>\n",
              "    <tr>\n",
              "      <th>0</th>\n",
              "      <td>0</td>\n",
              "      <td>3</td>\n",
              "      <td>male</td>\n",
              "      <td>22.0</td>\n",
              "      <td>1</td>\n",
              "      <td>0</td>\n",
              "      <td>7.2500</td>\n",
              "      <td>S</td>\n",
              "      <td>Third</td>\n",
              "      <td>man</td>\n",
              "      <td>True</td>\n",
              "      <td>NaN</td>\n",
              "      <td>Southampton</td>\n",
              "      <td>no</td>\n",
              "      <td>False</td>\n",
              "    </tr>\n",
              "    <tr>\n",
              "      <th>1</th>\n",
              "      <td>1</td>\n",
              "      <td>1</td>\n",
              "      <td>female</td>\n",
              "      <td>38.0</td>\n",
              "      <td>1</td>\n",
              "      <td>0</td>\n",
              "      <td>71.2833</td>\n",
              "      <td>C</td>\n",
              "      <td>First</td>\n",
              "      <td>woman</td>\n",
              "      <td>False</td>\n",
              "      <td>C</td>\n",
              "      <td>Cherbourg</td>\n",
              "      <td>yes</td>\n",
              "      <td>False</td>\n",
              "    </tr>\n",
              "    <tr>\n",
              "      <th>2</th>\n",
              "      <td>1</td>\n",
              "      <td>3</td>\n",
              "      <td>female</td>\n",
              "      <td>26.0</td>\n",
              "      <td>0</td>\n",
              "      <td>0</td>\n",
              "      <td>7.9250</td>\n",
              "      <td>S</td>\n",
              "      <td>Third</td>\n",
              "      <td>woman</td>\n",
              "      <td>False</td>\n",
              "      <td>NaN</td>\n",
              "      <td>Southampton</td>\n",
              "      <td>yes</td>\n",
              "      <td>True</td>\n",
              "    </tr>\n",
              "    <tr>\n",
              "      <th>3</th>\n",
              "      <td>1</td>\n",
              "      <td>1</td>\n",
              "      <td>female</td>\n",
              "      <td>35.0</td>\n",
              "      <td>1</td>\n",
              "      <td>0</td>\n",
              "      <td>53.1000</td>\n",
              "      <td>S</td>\n",
              "      <td>First</td>\n",
              "      <td>woman</td>\n",
              "      <td>False</td>\n",
              "      <td>C</td>\n",
              "      <td>Southampton</td>\n",
              "      <td>yes</td>\n",
              "      <td>False</td>\n",
              "    </tr>\n",
              "    <tr>\n",
              "      <th>4</th>\n",
              "      <td>0</td>\n",
              "      <td>3</td>\n",
              "      <td>male</td>\n",
              "      <td>35.0</td>\n",
              "      <td>0</td>\n",
              "      <td>0</td>\n",
              "      <td>8.0500</td>\n",
              "      <td>S</td>\n",
              "      <td>Third</td>\n",
              "      <td>man</td>\n",
              "      <td>True</td>\n",
              "      <td>NaN</td>\n",
              "      <td>Southampton</td>\n",
              "      <td>no</td>\n",
              "      <td>True</td>\n",
              "    </tr>\n",
              "  </tbody>\n",
              "</table>\n",
              "</div>\n",
              "      <button class=\"colab-df-convert\" onclick=\"convertToInteractive('df-52db1157-c917-410f-a2fe-441c5bbe4425')\"\n",
              "              title=\"Convert this dataframe to an interactive table.\"\n",
              "              style=\"display:none;\">\n",
              "        \n",
              "  <svg xmlns=\"http://www.w3.org/2000/svg\" height=\"24px\"viewBox=\"0 0 24 24\"\n",
              "       width=\"24px\">\n",
              "    <path d=\"M0 0h24v24H0V0z\" fill=\"none\"/>\n",
              "    <path d=\"M18.56 5.44l.94 2.06.94-2.06 2.06-.94-2.06-.94-.94-2.06-.94 2.06-2.06.94zm-11 1L8.5 8.5l.94-2.06 2.06-.94-2.06-.94L8.5 2.5l-.94 2.06-2.06.94zm10 10l.94 2.06.94-2.06 2.06-.94-2.06-.94-.94-2.06-.94 2.06-2.06.94z\"/><path d=\"M17.41 7.96l-1.37-1.37c-.4-.4-.92-.59-1.43-.59-.52 0-1.04.2-1.43.59L10.3 9.45l-7.72 7.72c-.78.78-.78 2.05 0 2.83L4 21.41c.39.39.9.59 1.41.59.51 0 1.02-.2 1.41-.59l7.78-7.78 2.81-2.81c.8-.78.8-2.07 0-2.86zM5.41 20L4 18.59l7.72-7.72 1.47 1.35L5.41 20z\"/>\n",
              "  </svg>\n",
              "      </button>\n",
              "      \n",
              "  <style>\n",
              "    .colab-df-container {\n",
              "      display:flex;\n",
              "      flex-wrap:wrap;\n",
              "      gap: 12px;\n",
              "    }\n",
              "\n",
              "    .colab-df-convert {\n",
              "      background-color: #E8F0FE;\n",
              "      border: none;\n",
              "      border-radius: 50%;\n",
              "      cursor: pointer;\n",
              "      display: none;\n",
              "      fill: #1967D2;\n",
              "      height: 32px;\n",
              "      padding: 0 0 0 0;\n",
              "      width: 32px;\n",
              "    }\n",
              "\n",
              "    .colab-df-convert:hover {\n",
              "      background-color: #E2EBFA;\n",
              "      box-shadow: 0px 1px 2px rgba(60, 64, 67, 0.3), 0px 1px 3px 1px rgba(60, 64, 67, 0.15);\n",
              "      fill: #174EA6;\n",
              "    }\n",
              "\n",
              "    [theme=dark] .colab-df-convert {\n",
              "      background-color: #3B4455;\n",
              "      fill: #D2E3FC;\n",
              "    }\n",
              "\n",
              "    [theme=dark] .colab-df-convert:hover {\n",
              "      background-color: #434B5C;\n",
              "      box-shadow: 0px 1px 3px 1px rgba(0, 0, 0, 0.15);\n",
              "      filter: drop-shadow(0px 1px 2px rgba(0, 0, 0, 0.3));\n",
              "      fill: #FFFFFF;\n",
              "    }\n",
              "  </style>\n",
              "\n",
              "      <script>\n",
              "        const buttonEl =\n",
              "          document.querySelector('#df-52db1157-c917-410f-a2fe-441c5bbe4425 button.colab-df-convert');\n",
              "        buttonEl.style.display =\n",
              "          google.colab.kernel.accessAllowed ? 'block' : 'none';\n",
              "\n",
              "        async function convertToInteractive(key) {\n",
              "          const element = document.querySelector('#df-52db1157-c917-410f-a2fe-441c5bbe4425');\n",
              "          const dataTable =\n",
              "            await google.colab.kernel.invokeFunction('convertToInteractive',\n",
              "                                                     [key], {});\n",
              "          if (!dataTable) return;\n",
              "\n",
              "          const docLinkHtml = 'Like what you see? Visit the ' +\n",
              "            '<a target=\"_blank\" href=https://colab.research.google.com/notebooks/data_table.ipynb>data table notebook</a>'\n",
              "            + ' to learn more about interactive tables.';\n",
              "          element.innerHTML = '';\n",
              "          dataTable['output_type'] = 'display_data';\n",
              "          await google.colab.output.renderOutput(dataTable, element);\n",
              "          const docLink = document.createElement('div');\n",
              "          docLink.innerHTML = docLinkHtml;\n",
              "          element.appendChild(docLink);\n",
              "        }\n",
              "      </script>\n",
              "    </div>\n",
              "  </div>\n",
              "  "
            ],
            "text/plain": [
              "   survived  pclass     sex   age  sibsp  parch     fare embarked  class  \\\n",
              "0         0       3    male  22.0      1      0   7.2500        S  Third   \n",
              "1         1       1  female  38.0      1      0  71.2833        C  First   \n",
              "2         1       3  female  26.0      0      0   7.9250        S  Third   \n",
              "3         1       1  female  35.0      1      0  53.1000        S  First   \n",
              "4         0       3    male  35.0      0      0   8.0500        S  Third   \n",
              "\n",
              "     who  adult_male deck  embark_town alive  alone  \n",
              "0    man        True  NaN  Southampton    no  False  \n",
              "1  woman       False    C    Cherbourg   yes  False  \n",
              "2  woman       False  NaN  Southampton   yes   True  \n",
              "3  woman       False    C  Southampton   yes  False  \n",
              "4    man        True  NaN  Southampton    no   True  "
            ]
          },
          "execution_count": 2,
          "metadata": {},
          "output_type": "execute_result"
        }
      ],
      "source": [
        "# <예제 5-1> 누락 데이터 확인\n",
        "# -*- coding: utf-8 -*-\n",
        "\n",
        "# 라이브러리 불러오기\n",
        "import seaborn as sns\n",
        "\n",
        "# titanic 데이터셋 가져오기\n",
        "df = sns.load_dataset('titanic')\n",
        "df.head()"
      ]
    },
    {
      "cell_type": "code",
      "execution_count": null,
      "metadata": {
        "colab": {
          "base_uri": "https://localhost:8080/"
        },
        "id": "1ek-400i-6wV",
        "outputId": "755ea5d5-766c-410c-8916-a523e10a8ae4"
      },
      "outputs": [
        {
          "name": "stdout",
          "output_type": "stream",
          "text": [
            "<class 'pandas.core.frame.DataFrame'>\n",
            "RangeIndex: 891 entries, 0 to 890\n",
            "Data columns (total 15 columns):\n",
            " #   Column       Non-Null Count  Dtype   \n",
            "---  ------       --------------  -----   \n",
            " 0   survived     891 non-null    int64   \n",
            " 1   pclass       891 non-null    int64   \n",
            " 2   sex          891 non-null    object  \n",
            " 3   age          714 non-null    float64 \n",
            " 4   sibsp        891 non-null    int64   \n",
            " 5   parch        891 non-null    int64   \n",
            " 6   fare         891 non-null    float64 \n",
            " 7   embarked     889 non-null    object  \n",
            " 8   class        891 non-null    category\n",
            " 9   who          891 non-null    object  \n",
            " 10  adult_male   891 non-null    bool    \n",
            " 11  deck         203 non-null    category\n",
            " 12  embark_town  889 non-null    object  \n",
            " 13  alive        891 non-null    object  \n",
            " 14  alone        891 non-null    bool    \n",
            "dtypes: bool(2), category(2), float64(2), int64(4), object(5)\n",
            "memory usage: 80.7+ KB\n"
          ]
        }
      ],
      "source": [
        "df.info()"
      ]
    },
    {
      "cell_type": "code",
      "execution_count": null,
      "metadata": {
        "colab": {
          "base_uri": "https://localhost:8080/"
        },
        "id": "PaWMOoz3-w3T",
        "outputId": "deda5e61-b760-413e-ca02-b37d1fba79e0"
      },
      "outputs": [
        {
          "name": "stdout",
          "output_type": "stream",
          "text": [
            "NaN    688\n",
            "C       59\n",
            "B       47\n",
            "D       33\n",
            "E       32\n",
            "A       15\n",
            "F       13\n",
            "G        4\n",
            "Name: deck, dtype: int64\n"
          ]
        }
      ],
      "source": [
        "# deck 열의 NaN 개수 계산하기\n",
        "#drpona는 모든 결측치를 삭제해줌\n",
        "nan_deck = df['deck'].value_counts(dropna=False)\n",
        "print(nan_deck)\n"
      ]
    },
    {
      "cell_type": "code",
      "execution_count": null,
      "metadata": {
        "colab": {
          "base_uri": "https://localhost:8080/"
        },
        "id": "z4BZOiIc_Fyd",
        "outputId": "6e7a0c87-c54f-486e-e4df-4201293816b0"
      },
      "outputs": [
        {
          "name": "stdout",
          "output_type": "stream",
          "text": [
            "   survived  pclass    sex    age  sibsp  parch   fare  embarked  class  \\\n",
            "0     False   False  False  False  False  False  False     False  False   \n",
            "1     False   False  False  False  False  False  False     False  False   \n",
            "2     False   False  False  False  False  False  False     False  False   \n",
            "3     False   False  False  False  False  False  False     False  False   \n",
            "4     False   False  False  False  False  False  False     False  False   \n",
            "\n",
            "     who  adult_male   deck  embark_town  alive  alone  \n",
            "0  False       False   True        False  False  False  \n",
            "1  False       False  False        False  False  False  \n",
            "2  False       False   True        False  False  False  \n",
            "3  False       False  False        False  False  False  \n",
            "4  False       False   True        False  False  False  \n"
          ]
        }
      ],
      "source": [
        "# isnull() 메서드로 누락 데이터 찾기\n",
        "print(df.head().isnull())"
      ]
    },
    {
      "cell_type": "code",
      "execution_count": null,
      "metadata": {
        "colab": {
          "base_uri": "https://localhost:8080/"
        },
        "id": "ywIgDD3tLrQi",
        "outputId": "2d959a8a-ec21-4413-8c8f-dba6fa554573"
      },
      "outputs": [
        {
          "name": "stdout",
          "output_type": "stream",
          "text": [
            "   survived  pclass   sex   age  sibsp  parch  fare  embarked  class   who  \\\n",
            "0      True    True  True  True   True   True  True      True   True  True   \n",
            "1      True    True  True  True   True   True  True      True   True  True   \n",
            "2      True    True  True  True   True   True  True      True   True  True   \n",
            "3      True    True  True  True   True   True  True      True   True  True   \n",
            "4      True    True  True  True   True   True  True      True   True  True   \n",
            "\n",
            "   adult_male   deck  embark_town  alive  alone  \n",
            "0        True  False         True   True   True  \n",
            "1        True   True         True   True   True  \n",
            "2        True  False         True   True   True  \n",
            "3        True   True         True   True   True  \n",
            "4        True  False         True   True   True  \n"
          ]
        }
      ],
      "source": [
        "# notnull() 메서드로 누락 데이터 찾기\n",
        "print(df.head().notnull())"
      ]
    },
    {
      "cell_type": "code",
      "execution_count": null,
      "metadata": {
        "colab": {
          "base_uri": "https://localhost:8080/"
        },
        "id": "GmdlkfyaLwYK",
        "outputId": "7337b6a8-9e22-45a2-f924-3d1130ff4ed7"
      },
      "outputs": [
        {
          "name": "stdout",
          "output_type": "stream",
          "text": [
            "survived       0\n",
            "pclass         0\n",
            "sex            0\n",
            "age            0\n",
            "sibsp          0\n",
            "parch          0\n",
            "fare           0\n",
            "embarked       0\n",
            "class          0\n",
            "who            0\n",
            "adult_male     0\n",
            "deck           3\n",
            "embark_town    0\n",
            "alive          0\n",
            "alone          0\n",
            "dtype: int64\n"
          ]
        }
      ],
      "source": [
        "# isnull() 메서드로 누락 데이터 개수 구하기\n",
        "print(df.head().isnull().sum(axis=0))"
      ]
    },
    {
      "cell_type": "markdown",
      "metadata": {
        "id": "UWlPRNZ4py4h"
      },
      "source": [
        "![image.png](data:image/png;base64,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)"
      ]
    },
    {
      "cell_type": "markdown",
      "metadata": {
        "id": "vI6Mj6vurVNE"
      },
      "source": [
        "### 2. 누락 데이터 제거\n"
      ]
    },
    {
      "cell_type": "code",
      "execution_count": null,
      "metadata": {
        "colab": {
          "base_uri": "https://localhost:8080/"
        },
        "id": "FGRk-4omMMIm",
        "outputId": "a800e12c-82ab-45b4-ddf3-865672f26e98"
      },
      "outputs": [
        {
          "name": "stdout",
          "output_type": "stream",
          "text": [
            "survived :  0\n",
            "pclass :  0\n",
            "sex :  0\n",
            "age :  177\n",
            "sibsp :  0\n",
            "parch :  0\n",
            "fare :  0\n",
            "embarked :  2\n",
            "class :  0\n",
            "who :  0\n",
            "adult_male :  0\n",
            "deck :  688\n",
            "embark_town :  2\n",
            "alive :  0\n",
            "alone :  0\n"
          ]
        }
      ],
      "source": [
        "# <예제 5-2> 누락 데이터 제거\n",
        "# -*- coding: utf-8 -*-\n",
        "\n",
        "# 라이브러리 불러오기\n",
        "import seaborn as sns\n",
        "\n",
        "# titanic 데이터셋 가져오기\n",
        "df = sns.load_dataset('titanic')\n",
        "\n",
        "# for 반복문으로 각 열의 NaN 개수 계산하기\n",
        "missing_df = df.isnull()\n",
        "for col in missing_df.columns:\n",
        "    missing_count = missing_df[col].value_counts()    # 각 열의 NaN 개수 파악\n",
        "\n",
        "    try:\n",
        "        print(col, ': ', missing_count[True])   # NaN 값이 있으면 개수를 출력\n",
        "    except:\n",
        "        print(col, ': ', 0)                     # NaN 값이 없으면 0개 출력\n"
      ]
    },
    {
      "cell_type": "markdown",
      "metadata": {
        "id": "waj9kk8cMlBg"
      },
      "source": [
        "* 전체 891명의 승객 중에서 688명의 데크('deck' 열) 데이터가 누락되어 있다."
      ]
    },
    {
      "cell_type": "code",
      "execution_count": null,
      "metadata": {
        "colab": {
          "base_uri": "https://localhost:8080/"
        },
        "id": "4E25FjDzMPRH",
        "outputId": "f770bb4d-6707-444a-fa4c-9c0ba39dfcf7"
      },
      "outputs": [
        {
          "name": "stdout",
          "output_type": "stream",
          "text": [
            "Index(['survived', 'pclass', 'sex', 'age', 'sibsp', 'parch', 'fare',\n",
            "       'embarked', 'class', 'who', 'adult_male', 'embark_town', 'alive',\n",
            "       'alone'],\n",
            "      dtype='object')\n"
          ]
        }
      ],
      "source": [
        "# NaN 값이 500개 이상인 열을 모두 삭제 - deck 열(891개 중 688개의 NaN 값)\n",
        "df_thresh = df.dropna(axis=1, thresh=500)\n",
        "print(df_thresh.columns)"
      ]
    },
    {
      "cell_type": "code",
      "execution_count": null,
      "metadata": {
        "colab": {
          "base_uri": "https://localhost:8080/"
        },
        "id": "zBPNlG-jM9sv",
        "outputId": "1c7136c9-a664-4b2c-d377-6466e319c242"
      },
      "outputs": [
        {
          "name": "stdout",
          "output_type": "stream",
          "text": [
            "714\n"
          ]
        }
      ],
      "source": [
        "# age 열에 나이 데이터가 없는 모든 행을 삭제 - age 열(891개 중 177개의 NaN 값)\n",
        "df_age = df.dropna(subset=['age'], how='any', axis=0)\n",
        "print(len(df_age))"
      ]
    },
    {
      "cell_type": "markdown",
      "metadata": {
        "id": "T3oS8f7gp0c7"
      },
      "source": [
        "![image.png](data:image/png;base64,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)"
      ]
    },
    {
      "cell_type": "markdown",
      "metadata": {
        "id": "IOg-wXNDrRpY"
      },
      "source": [
        "### 3. 누락 데이터 치환"
      ]
    },
    {
      "cell_type": "code",
      "execution_count": null,
      "metadata": {
        "colab": {
          "base_uri": "https://localhost:8080/"
        },
        "id": "dPNwXDnmNICh",
        "outputId": "0a234ce1-acea-4098-b512-77d8db411036"
      },
      "outputs": [
        {
          "name": "stdout",
          "output_type": "stream",
          "text": [
            "0    22.0\n",
            "1    38.0\n",
            "2    26.0\n",
            "3    35.0\n",
            "4    35.0\n",
            "5     NaN\n",
            "6    54.0\n",
            "7     2.0\n",
            "8    27.0\n",
            "9    14.0\n",
            "Name: age, dtype: float64\n",
            "\n",
            "\n",
            "0    22.000000\n",
            "1    38.000000\n",
            "2    26.000000\n",
            "3    35.000000\n",
            "4    35.000000\n",
            "5    29.699118\n",
            "6    54.000000\n",
            "7     2.000000\n",
            "8    27.000000\n",
            "9    14.000000\n",
            "Name: age, dtype: float64\n"
          ]
        }
      ],
      "source": [
        "# <예제 5-3> 평균으로 누락 데이터 바꾸기\n",
        "# -*- coding: utf-8 -*-\n",
        "\n",
        "# 라이브러리 불러오기\n",
        "import seaborn as sns\n",
        "\n",
        "# titanic 데이터셋 가져오기\n",
        "df = sns.load_dataset('titanic')\n",
        "\n",
        "# age 열의 첫 10개 데이터 출력 (5 행에 NaN 값)\n",
        "print(df['age'].head(10))\n",
        "print('\\n')\n",
        "\n",
        "# age 열의 NaN값을 다른 나이 데이터의 평균으로 변경하기\n",
        "mean_age = df['age'].mean(axis=0)   # age 열의 평균 계산 (NaN 값 제외)\n",
        "df['age'].fillna(mean_age, inplace=True)\n",
        "\n",
        "# age 열의 첫 10개 데이터 출력 (5 행에 NaN 값이 평균으로 대체)\n",
        "print(df['age'].head(10))"
      ]
    },
    {
      "cell_type": "code",
      "execution_count": null,
      "metadata": {
        "colab": {
          "base_uri": "https://localhost:8080/"
        },
        "id": "APvm7X4XPOu8",
        "outputId": "9c417f71-10ce-4499-cfed-e5af73305f55"
      },
      "outputs": [
        {
          "name": "stdout",
          "output_type": "stream",
          "text": [
            "825     Queenstown\n",
            "826    Southampton\n",
            "827      Cherbourg\n",
            "828     Queenstown\n",
            "829            NaN\n",
            "Name: embark_town, dtype: object\n",
            "\n",
            "\n",
            "Southampton\n",
            "\n",
            "\n",
            "825     Queenstown\n",
            "826    Southampton\n",
            "827      Cherbourg\n",
            "828     Queenstown\n",
            "829    Southampton\n",
            "Name: embark_town, dtype: object\n"
          ]
        }
      ],
      "source": [
        "# <예제 5-4> 가장 많이 나타나는 값으로 바꾸기\n",
        "# -*- coding: utf-8 -*-\n",
        "\n",
        "# 라이브러리 불러오기\n",
        "import seaborn as sns\n",
        "\n",
        "# titanic 데이터셋 가져오기\n",
        "df = sns.load_dataset('titanic')\n",
        "\n",
        "# embark_town 열의 829행의 NaN 데이터 출력\n",
        "print(df['embark_town'][825:830])\n",
        "print('\\n')\n",
        "\n",
        "# embark_town 열의 NaN값을 승선도시 중에서 가장 많이 출현한 값으로 치환하기\n",
        "most_freq = df['embark_town'].value_counts(dropna=True).idxmax()\n",
        "print(most_freq)\n",
        "print('\\n')\n",
        "\n",
        "df['embark_town'].fillna(most_freq, inplace=True)\n",
        "\n",
        "# embark_town 열 829행의 NaN 데이터 출력 (NaN 값이 most_freq 값으로 대체)\n",
        "print(df['embark_town'][825:830])"
      ]
    },
    {
      "cell_type": "markdown",
      "metadata": {
        "id": "jIgU8Z4_rOZt"
      },
      "source": [
        "* 누락 데이터가 NaN으로 표시되지 않은 경우\n",
        "  * 에를 들면 숫자 0이나 문자 '-', '?'\n",
        "  * 판다스에서 누락 데이커를 다루려면 replace() 메소드를 활용하여 NumPy에서 지원하는 np.nan으로 변경"
      ]
    },
    {
      "cell_type": "code",
      "execution_count": null,
      "metadata": {
        "colab": {
          "base_uri": "https://localhost:8080/"
        },
        "id": "x5yLMrSsQmmf",
        "outputId": "9391941f-5e36-439f-d8b3-17481fc9b930"
      },
      "outputs": [
        {
          "name": "stdout",
          "output_type": "stream",
          "text": [
            "825     Queenstown\n",
            "826    Southampton\n",
            "827      Cherbourg\n",
            "828     Queenstown\n",
            "829            NaN\n",
            "Name: embark_town, dtype: object\n",
            "\n",
            "\n",
            "825     Queenstown\n",
            "826    Southampton\n",
            "827      Cherbourg\n",
            "828     Queenstown\n",
            "829     Queenstown\n",
            "Name: embark_town, dtype: object\n"
          ]
        }
      ],
      "source": [
        "# <예제 5-5> 이웃하고 있는 값으로 바꾸기\n",
        "# -*- coding: utf-8 -*-\n",
        "\n",
        "# 라이브러리 불러오기\n",
        "import seaborn as sns\n",
        "\n",
        "# titanic 데이터셋 가져오기\n",
        "df = sns.load_dataset('titanic')\n",
        "\n",
        "# embark_town 열의 829행의 NaN 데이터 출력\n",
        "print(df['embark_town'][825:830])\n",
        "print('\\n')\n",
        "\n",
        "# embark_town 열의 NaN값을 바로 앞에 있는 828행의 값으로 변경하기\n",
        "df['embark_town'].fillna(method='ffill', inplace=True)\n",
        "print(df['embark_town'][825:830])"
      ]
    },
    {
      "cell_type": "markdown",
      "metadata": {
        "id": "VcVBcMFpp2K2"
      },
      "source": [
        "![image.png](data:image/png;base64,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)"
      ]
    },
    {
      "cell_type": "markdown",
      "metadata": {
        "id": "ctLaspo-rLGj"
      },
      "source": [
        "# 2. 중복 데이터 처리\n",
        "### 1. 중복 데이터 확인\n",
        "* duplicated() 메소드를 이용\n",
        "  * 전에 나온 행들과 비교하여 중복되는 행이면 True\n",
        "  * 처음 나오는 행이면 False를 반환"
      ]
    },
    {
      "cell_type": "code",
      "execution_count": null,
      "metadata": {
        "colab": {
          "base_uri": "https://localhost:8080/"
        },
        "id": "WZEnem3QRN6r",
        "outputId": "f9007488-ff59-4dfe-eebb-1e7051bc08f7"
      },
      "outputs": [
        {
          "name": "stdout",
          "output_type": "stream",
          "text": [
            "  c1  c2  c3\n",
            "0  a   1   1\n",
            "1  a   1   1\n",
            "2  b   1   2\n",
            "3  a   2   2\n",
            "4  b   2   2\n",
            "\n",
            "\n",
            "0    False\n",
            "1     True\n",
            "2    False\n",
            "3    False\n",
            "4    False\n",
            "dtype: bool\n"
          ]
        }
      ],
      "source": [
        "# <예제 5-6> 중복 데이터 확인\n",
        "# -*- coding: utf-8 -*-\n",
        "\n",
        "# 라이브러리 불러오기\n",
        "import pandas as pd\n",
        "\n",
        "# 중복 데이터를 갖는 데이터프레임 만들기\n",
        "df = pd.DataFrame({'c1':['a', 'a', 'b', 'a', 'b'],\n",
        "                  'c2':[1, 1, 1, 2, 2],\n",
        "                  'c3':[1, 1, 2, 2, 2]})\n",
        "print(df)\n",
        "print('\\n')\n",
        "\n",
        "# 데이터프레임 전체 행 데이터 중에서 중복값 찾기\n",
        "df_dup = df.duplicated()\n",
        "print(df_dup)"
      ]
    },
    {
      "cell_type": "code",
      "execution_count": null,
      "metadata": {
        "colab": {
          "base_uri": "https://localhost:8080/"
        },
        "id": "QFsQmmPzRpRN",
        "outputId": "2626ec21-19da-452e-8b9a-f942190f2bd9"
      },
      "outputs": [
        {
          "name": "stdout",
          "output_type": "stream",
          "text": [
            "0    False\n",
            "1     True\n",
            "2     True\n",
            "3    False\n",
            "4     True\n",
            "Name: c2, dtype: bool\n"
          ]
        }
      ],
      "source": [
        "# 데이터프레임의 특정 열 데이터에서 중복값 찾기\n",
        "col_dup = df['c2'].duplicated()\n",
        "print(col_dup)"
      ]
    },
    {
      "cell_type": "markdown",
      "metadata": {
        "id": "BNS_lToop3dH"
      },
      "source": [
        "![image.png](data:image/png;base64,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)"
      ]
    },
    {
      "cell_type": "markdown",
      "metadata": {
        "id": "1fcN34cHrGyl"
      },
      "source": [
        "### 2. 중복 데이터 제거\n",
        "* drop_duplicates() 메소드의 subset 옵션에 '열 이름의 리스트'를 전달할 수 있다."
      ]
    },
    {
      "cell_type": "code",
      "execution_count": null,
      "metadata": {
        "colab": {
          "base_uri": "https://localhost:8080/"
        },
        "id": "VXv7CaL-SXym",
        "outputId": "7b37947b-4f3d-48f0-dd09-6a2aefca977a"
      },
      "outputs": [
        {
          "name": "stdout",
          "output_type": "stream",
          "text": [
            "  c1  c2  c3\n",
            "0  a   1   1\n",
            "1  a   1   1\n",
            "2  b   1   2\n",
            "3  a   2   2\n",
            "4  b   2   2\n",
            "\n",
            "\n",
            "  c1  c2  c3\n",
            "0  a   1   1\n",
            "2  b   1   2\n",
            "3  a   2   2\n",
            "4  b   2   2\n"
          ]
        }
      ],
      "source": [
        "# <예제 5-7> 중복 데이터 제거\n",
        "# -*- coding: utf-8 -*-\n",
        "\n",
        "# 라이브러리 불러오기\n",
        "import pandas as pd\n",
        "\n",
        "# 중복 데이터를 갖는 데이터프레임 만들기\n",
        "df = pd.DataFrame({'c1':['a', 'a', 'b', 'a', 'b'],\n",
        "                  'c2':[1, 1, 1, 2, 2],\n",
        "                  'c3':[1, 1, 2, 2, 2]})\n",
        "print(df)\n",
        "print('\\n')\n",
        "\n",
        "# 데이터프레임에서 중복 행을 제거\n",
        "df2 = df.drop_duplicates()\n",
        "print(df2)"
      ]
    },
    {
      "cell_type": "code",
      "execution_count": null,
      "metadata": {
        "colab": {
          "base_uri": "https://localhost:8080/"
        },
        "id": "KumKMMKZScAv",
        "outputId": "cf19e4ca-bcde-4354-bfd5-44a281dd01fb"
      },
      "outputs": [
        {
          "name": "stdout",
          "output_type": "stream",
          "text": [
            "  c1  c2  c3\n",
            "0  a   1   1\n",
            "2  b   1   2\n",
            "3  a   2   2\n"
          ]
        }
      ],
      "source": [
        "# c2, c3열을 기준으로 중복 행을 제거\n",
        "df3 = df.drop_duplicates(subset=['c2', 'c3'])\n",
        "print(df3)"
      ]
    },
    {
      "cell_type": "markdown",
      "metadata": {
        "id": "HOmWwzMAp4lp"
      },
      "source": [
        "![image.png](data:image/png;base64,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)"
      ]
    },
    {
      "cell_type": "markdown",
      "metadata": {
        "id": "z6PqUKuirCKV"
      },
      "source": [
        "# 3. 데이터 표준화\n",
        "## 3-1 단위 환산\n",
        "* mpg(mile per gallon)를 kpl(kilometer per liter)로 변환\n",
        "  * 1mpg(영미권에서 사용하는 '갤런당 마일(mile per gallen)')= 0.425km/L(리터당 킬로미터)"
      ]
    },
    {
      "cell_type": "code",
      "execution_count": null,
      "metadata": {
        "colab": {
          "base_uri": "https://localhost:8080/"
        },
        "id": "8dgQu3NWTKGY",
        "outputId": "d8bf3e45-8489-4cd3-c118-5eb021b0d399"
      },
      "outputs": [
        {
          "name": "stdout",
          "output_type": "stream",
          "text": [
            "    mpg  cylinders  displacement horsepower  weight  acceleration  model year  \\\n",
            "0  18.0          8         307.0      130.0  3504.0          12.0          70   \n",
            "1  15.0          8         350.0      165.0  3693.0          11.5          70   \n",
            "2  18.0          8         318.0      150.0  3436.0          11.0          70   \n",
            "\n",
            "   origin                       name  \n",
            "0       1  chevrolet chevelle malibu  \n",
            "1       1          buick skylark 320  \n",
            "2       1         plymouth satellite  \n",
            "\n",
            "\n",
            "    mpg  cylinders  displacement horsepower  weight  acceleration  model year  \\\n",
            "0  18.0          8         307.0      130.0  3504.0          12.0          70   \n",
            "1  15.0          8         350.0      165.0  3693.0          11.5          70   \n",
            "2  18.0          8         318.0      150.0  3436.0          11.0          70   \n",
            "\n",
            "   origin                       name       kpl  \n",
            "0       1  chevrolet chevelle malibu  7.652571  \n",
            "1       1          buick skylark 320  6.377143  \n",
            "2       1         plymouth satellite  7.652571  \n",
            "\n",
            "\n",
            "    mpg  cylinders  displacement horsepower  weight  acceleration  model year  \\\n",
            "0  18.0          8         307.0      130.0  3504.0          12.0          70   \n",
            "1  15.0          8         350.0      165.0  3693.0          11.5          70   \n",
            "2  18.0          8         318.0      150.0  3436.0          11.0          70   \n",
            "\n",
            "   origin                       name   kpl  \n",
            "0       1  chevrolet chevelle malibu  7.65  \n",
            "1       1          buick skylark 320  6.38  \n",
            "2       1         plymouth satellite  7.65  \n"
          ]
        }
      ],
      "source": [
        "# <예제 5-8> 단위 환산\n",
        "# -*- coding: utf-8 -*-\n",
        "\n",
        "# 라이브러리 불러오기\n",
        "import pandas as pd\n",
        "\n",
        "# read_csv() 함수로 df 생성\n",
        "df = pd.read_csv('./auto-mpg.csv', header=None)\n",
        "\n",
        "# 열 이름을 지정\n",
        "df.columns = ['mpg','cylinders','displacement','horsepower','weight',\n",
        "              'acceleration','model year','origin','name']\n",
        "print(df.head(3))\n",
        "print('\\n')\n",
        "\n",
        "# mpg(mile per gallon)를 kpl(kilometer per liter)로 변환 (mpg_to_kpl = 0.425)\n",
        "mpg_to_kpl = 1.60934 / 3.78541\n",
        "\n",
        "# mpg 열에 0.425를 곱한 결과를 새로운 열(kpl)에 추가\n",
        "df['kpl'] = df['mpg'] * mpg_to_kpl\n",
        "print(df.head(3))\n",
        "print('\\n')\n",
        "\n",
        "# kpl 열을 소수점 아래 둘째 자리에서 반올림\n",
        "df['kpl'] = df['kpl'].round(2)\n",
        "print(df.head(3))"
      ]
    },
    {
      "cell_type": "markdown",
      "metadata": {
        "id": "2ElfMWCGp5zz"
      },
      "source": [
        "![image.png](data:image/png;base64,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)"
      ]
    },
    {
      "cell_type": "markdown",
      "metadata": {
        "id": "nSS_feSVq-GZ"
      },
      "source": [
        "## 3-2 자료형 변환\n",
        "* 엔진 출력 'horsepower' 열은 숫자형이 적절\n",
        "* 출시연도를 나타내는 'model year' 열과 출시국가를 뜻하는 'orgin' 열은 카테고리를 나타내는 범주형이 적절"
      ]
    },
    {
      "cell_type": "code",
      "execution_count": null,
      "metadata": {
        "colab": {
          "base_uri": "https://localhost:8080/"
        },
        "id": "uEcS_s9BU24m",
        "outputId": "582416a4-d195-49ab-a923-989b6d7093c8"
      },
      "outputs": [
        {
          "name": "stdout",
          "output_type": "stream",
          "text": [
            "mpg             float64\n",
            "cylinders         int64\n",
            "displacement    float64\n",
            "horsepower       object\n",
            "weight          float64\n",
            "acceleration    float64\n",
            "model year        int64\n",
            "origin            int64\n",
            "name             object\n",
            "dtype: object\n"
          ]
        }
      ],
      "source": [
        "# <예제 5-9> 자료형 변환\n",
        "# -*- coding: utf-8 -*-\n",
        "\n",
        "# 라이브러리 불러오기\n",
        "import pandas as pd\n",
        "\n",
        "# read_csv() 함수로 df 생성\n",
        "df = pd.read_csv('./auto-mpg.csv', header=None)\n",
        "\n",
        "# 열 이름을 지정\n",
        "df.columns = ['mpg','cylinders','displacement','horsepower','weight',\n",
        "              'acceleration','model year','origin','name']\n",
        "\n",
        "# 각 열의 자료형 확인\n",
        "print(df.dtypes)"
      ]
    },
    {
      "cell_type": "code",
      "execution_count": null,
      "metadata": {
        "colab": {
          "base_uri": "https://localhost:8080/"
        },
        "id": "u4ddRF-lVEKY",
        "outputId": "bf56f37e-02d2-4d03-d5b0-ebb73fd31c68"
      },
      "outputs": [
        {
          "name": "stdout",
          "output_type": "stream",
          "text": [
            "['130.0' '165.0' '150.0' '140.0' '198.0' '220.0' '215.0' '225.0' '190.0'\n",
            " '170.0' '160.0' '95.00' '97.00' '85.00' '88.00' '46.00' '87.00' '90.00'\n",
            " '113.0' '200.0' '210.0' '193.0' '?' '100.0' '105.0' '175.0' '153.0'\n",
            " '180.0' '110.0' '72.00' '86.00' '70.00' '76.00' '65.00' '69.00' '60.00'\n",
            " '80.00' '54.00' '208.0' '155.0' '112.0' '92.00' '145.0' '137.0' '158.0'\n",
            " '167.0' '94.00' '107.0' '230.0' '49.00' '75.00' '91.00' '122.0' '67.00'\n",
            " '83.00' '78.00' '52.00' '61.00' '93.00' '148.0' '129.0' '96.00' '71.00'\n",
            " '98.00' '115.0' '53.00' '81.00' '79.00' '120.0' '152.0' '102.0' '108.0'\n",
            " '68.00' '58.00' '149.0' '89.00' '63.00' '48.00' '66.00' '139.0' '103.0'\n",
            " '125.0' '133.0' '138.0' '135.0' '142.0' '77.00' '62.00' '132.0' '84.00'\n",
            " '64.00' '74.00' '116.0' '82.00']\n"
          ]
        }
      ],
      "source": [
        "# horsepower 열의 고유값 확인\n",
        "print(df['horsepower'].unique())"
      ]
    },
    {
      "cell_type": "code",
      "execution_count": null,
      "metadata": {
        "id": "0FzuZ7LvUu8Q"
      },
      "outputs": [],
      "source": [
        "# 누락 데이터('?') 삭제\n",
        "import numpy as np\n",
        "df['horsepower'].replace('?', np.nan, inplace=True)      # '?'을 np.nan으로 변경\n",
        "df.dropna(subset=['horsepower'], axis=0, inplace=True)   # 누락데이터 행을 삭제\n",
        "df['horsepower'] = df['horsepower'].astype('float')      # 문자열을 실수형으로 변환\n",
        "\n",
        "# horsepower 열의 자료형 확인\n",
        "print(df['horsepower'].dtypes)"
      ]
    },
    {
      "cell_type": "code",
      "execution_count": null,
      "metadata": {
        "colab": {
          "base_uri": "https://localhost:8080/"
        },
        "id": "9sypPT0EWCP9",
        "outputId": "5f64dfeb-ee35-4c08-f419-4756768daae3"
      },
      "outputs": [
        {
          "name": "stdout",
          "output_type": "stream",
          "text": [
            "[1 3 2]\n",
            "['USA' 'JAPAN' 'EU']\n",
            "object\n"
          ]
        }
      ],
      "source": [
        "# origin 열의 고유값 확인\n",
        "print(df['origin'].unique())\n",
        "\n",
        "# 정수형 데이터를 문자형 데이터로 변환\n",
        "df['origin'].replace({1:'USA', 2:'EU', 3:'JAPAN'}, inplace=True)\n",
        "\n",
        "# origin 열의 고유값과 자료형 확인\n",
        "print(df['origin'].unique())\n",
        "print(df['origin'].dtypes)"
      ]
    },
    {
      "cell_type": "code",
      "execution_count": null,
      "metadata": {
        "colab": {
          "base_uri": "https://localhost:8080/"
        },
        "id": "T-GHBZjqWLIj",
        "outputId": "a844ef1f-df5d-4364-a5ac-c4b85e6ac41e"
      },
      "outputs": [
        {
          "name": "stdout",
          "output_type": "stream",
          "text": [
            "category\n",
            "object\n"
          ]
        }
      ],
      "source": [
        "# origin 열의 문자열 자료형을 범주형으로 변환\n",
        "df['origin'] = df['origin'].astype('category')\n",
        "print(df['origin'].dtypes)\n",
        "\n",
        "# 범주형을 문자열로 다시 변환\n",
        "df['origin'] = df['origin'].astype('str')\n",
        "print(df['origin'].dtypes)"
      ]
    },
    {
      "cell_type": "code",
      "execution_count": null,
      "metadata": {
        "colab": {
          "base_uri": "https://localhost:8080/"
        },
        "id": "jnN8tB8RWcwA",
        "outputId": "d0c12fa6-a925-41c0-bdc4-0924e64aaa57"
      },
      "outputs": [
        {
          "name": "stdout",
          "output_type": "stream",
          "text": [
            "343    81\n",
            "163    75\n",
            "391    82\n",
            "Name: model year, dtype: int64\n",
            "390    82\n",
            "142    74\n",
            "286    79\n",
            "Name: model year, dtype: category\n",
            "Categories (13, int64): [70, 71, 72, 73, ..., 79, 80, 81, 82]\n"
          ]
        }
      ],
      "source": [
        "# model year 열의 정수형을 범주형으로 변환\n",
        "print(df['model year'].sample(3))\n",
        "df['model year'] = df['model year'].astype('category')\n",
        "print(df['model year'].sample(3))"
      ]
    },
    {
      "cell_type": "markdown",
      "metadata": {
        "id": "20wE6cAAp7O4"
      },
      "source": [
        "![image.png](data:image/png;base64,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)"
      ]
    },
    {
      "cell_type": "markdown",
      "metadata": {
        "id": "gHyHY-sKWnrn"
      },
      "source": [
        "# 4, 범주형(카테고리) 데이터 처리\n",
        "## 4-1 구간 분할\n",
        "\n",
        "* [그림] 구간 분할 경계값 구하기\n",
        "\n",
        "![image.png](data:image/png;base64,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)\n",
        "\n",
        "* 'horsepower' 열은 엔진 출력 --> '저출력', '보통출력', '고출력' 등 구간으로 나누어서 표시하는 것이 효율적\n",
        "  * 3개의 구간으로 구분하려면 총 4개의 경계값이 필요\n",
        "\n"
      ]
    },
    {
      "cell_type": "code",
      "execution_count": null,
      "metadata": {
        "colab": {
          "base_uri": "https://localhost:8080/"
        },
        "id": "ISUnjh8SXKnm",
        "outputId": "64a2d806-63c7-4836-c8c7-79fb4c93b220"
      },
      "outputs": [
        {
          "name": "stdout",
          "output_type": "stream",
          "text": [
            "[ 46.         107.33333333 168.66666667 230.        ]\n"
          ]
        }
      ],
      "source": [
        "# <예제 5-10> 데이터 구간 분할\n",
        "# -*- coding: utf-8 -*-\n",
        "\n",
        "# 라이브러리 불러오기\n",
        "import pandas as pd\n",
        "import numpy as np\n",
        "\n",
        "# read_csv() 함수로 df 생성\n",
        "df = pd.read_csv('./auto-mpg.csv', header=None)\n",
        "\n",
        "# 열 이름을 지정\n",
        "df.columns = ['mpg','cylinders','displacement','horsepower','weight',\n",
        "              'acceleration','model year','origin','name']\n",
        "\n",
        "# horsepower 열의 누락 데이터('?') 삭제하고 실수형으로 변환\n",
        "df['horsepower'].replace('?', np.nan, inplace=True)      # '?'을 np.nan으로 변경\n",
        "df.dropna(subset=['horsepower'], axis=0, inplace=True)   # 누락데이터 행을 삭제\n",
        "df['horsepower'] = df['horsepower'].astype('float')      # 문자열을 실수형으로 변환\n",
        "\n",
        "# np.histogram 함수로 3개의 bin으로 나누는 경계 값의 리스트 구하기\n",
        "count, bin_dividers = np.histogram(df['horsepower'], bins=3)\n",
        "print(bin_dividers)"
      ]
    },
    {
      "cell_type": "code",
      "execution_count": null,
      "metadata": {
        "colab": {
          "base_uri": "https://localhost:8080/"
        },
        "id": "N-D23wliYKDy",
        "outputId": "dddeff6a-f1fc-400b-892b-e4886c069990"
      },
      "outputs": [
        {
          "name": "stdout",
          "output_type": "stream",
          "text": [
            "    horsepower hp_bin\n",
            "0        130.0   보통출력\n",
            "1        165.0   보통출력\n",
            "2        150.0   보통출력\n",
            "3        150.0   보통출력\n",
            "4        140.0   보통출력\n",
            "5        198.0    고출력\n",
            "6        220.0    고출력\n",
            "7        215.0    고출력\n",
            "8        225.0    고출력\n",
            "9        190.0    고출력\n",
            "10       170.0    고출력\n",
            "11       160.0   보통출력\n",
            "12       150.0   보통출력\n",
            "13       225.0    고출력\n",
            "14        95.0    저출력\n"
          ]
        }
      ],
      "source": [
        "# 3개의 bin에 이름 지정\n",
        "bin_names = ['저출력', '보통출력', '고출력']\n",
        "\n",
        "# pd.cut 함수로 각 데이터를 3개의 bin에 할당\n",
        "df['hp_bin'] = pd.cut(x=df['horsepower'],     # 데이터 배열\n",
        "                      bins=bin_dividers,      # 경계 값 리스트\n",
        "                      labels=bin_names,       # bin 이름\n",
        "                      include_lowest=True)    # 첫 경계값 포함\n",
        "\n",
        "# horsepower 열, hp_bin 열의 첫 15행을 출력\n",
        "print(df[['horsepower', 'hp_bin']].head(15))"
      ]
    },
    {
      "cell_type": "markdown",
      "metadata": {
        "id": "wgmED53hYhQa"
      },
      "source": [
        "* 'horsepower'열의 숫자형 연속 데이터를 'hp_bin' 열의 범주형 데이터로 변환 --> 컴퓨터가 인식 가능한 입력값으로 변환(숫자 0또는 1로 표현되는 더미 변수를 사용)"
      ]
    },
    {
      "cell_type": "markdown",
      "metadata": {
        "id": "soURlOump8uK"
      },
      "source": [
        "![image.png](data:image/png;base64,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)"
      ]
    },
    {
      "cell_type": "markdown",
      "metadata": {
        "id": "EPZmw8SPqvog"
      },
      "source": [
        "## 4-2 더미 변수(dummy variable)- 어떤 특성(feature)이 있는지 없는지 여부만을 표시\n",
        "  * 범주형 데이터를 컴퓨터가 인식할 수 있도록 숫자 0과 1로만 구성되는 원핫벡터(one hot vector)로 변환한다고 해서 원핫인코딩(one-hot-encoding)이라고도 부름\n",
        "  * 판다스 get_dummies() 함수를 사용"
      ]
    },
    {
      "cell_type": "code",
      "execution_count": null,
      "metadata": {
        "colab": {
          "base_uri": "https://localhost:8080/"
        },
        "id": "RdDelm8YaBM5",
        "outputId": "d5a3f70d-e52c-42c4-a91e-3579b280614f"
      },
      "outputs": [
        {
          "name": "stdout",
          "output_type": "stream",
          "text": [
            "    저출력  보통출력  고출력\n",
            "0     0     1    0\n",
            "1     0     1    0\n",
            "2     0     1    0\n",
            "3     0     1    0\n",
            "4     0     1    0\n",
            "5     0     0    1\n",
            "6     0     0    1\n",
            "7     0     0    1\n",
            "8     0     0    1\n",
            "9     0     0    1\n",
            "10    0     0    1\n",
            "11    0     1    0\n",
            "12    0     1    0\n",
            "13    0     0    1\n",
            "14    1     0    0\n"
          ]
        }
      ],
      "source": [
        "# <예제 5-11> 더미 변수\n",
        "# -*- coding: utf-8 -*-\n",
        "\n",
        "# 라이브러리 불러오기\n",
        "import pandas as pd\n",
        "import numpy as np\n",
        "\n",
        "# read_csv() 함수로 df 생성\n",
        "df = pd.read_csv('./auto-mpg.csv', header=None)\n",
        "\n",
        "# 열 이름을 지정\n",
        "df.columns = ['mpg','cylinders','displacement','horsepower','weight',\n",
        "              'acceleration','model year','origin','name']\n",
        "\n",
        "# horsepower 열의 누락 데이터('?') 삭제하고 실수형으로 변환\n",
        "df['horsepower'].replace('?', np.nan, inplace=True)      # '?'을 np.nan으로 변경\n",
        "df.dropna(subset=['horsepower'], axis=0, inplace=True)   # 누락데이터 행을 삭제\n",
        "df['horsepower'] = df['horsepower'].astype('float')      # 문자열을 실수형으로 변환\n",
        "\n",
        "# np.histogram 으로 3개의 bin으로 나누는 경계 값의 리스트 구하기\n",
        "count, bin_dividers = np.histogram(df['horsepower'], bins=3)\n",
        "\n",
        "# 3개의 bin에 이름 지정\n",
        "bin_names = ['저출력', '보통출력', '고출력']\n",
        "\n",
        "# pd.cut 으로 각 데이터를 3개의 bin에 할당\n",
        "df['hp_bin'] = pd.cut(x=df['horsepower'],     # 데이터 배열\n",
        "                      bins=bin_dividers,      # 경계 값 리스트\n",
        "                      labels=bin_names,       # bin 이름\n",
        "                      include_lowest=True)    # 첫 경계값 포함\n",
        "\n",
        "# hp_bin 열의 범주형 데이터를 더미 변수로 변환\n",
        "horsepower_dummies = pd.get_dummies(df['hp_bin'])\n",
        "print(horsepower_dummies.head(15))"
      ]
    },
    {
      "cell_type": "code",
      "execution_count": null,
      "metadata": {
        "colab": {
          "base_uri": "https://localhost:8080/"
        },
        "id": "0CwHZOa1acLs",
        "outputId": "4b3b93c9-1e51-472c-b060-368c0b68816d"
      },
      "outputs": [
        {
          "name": "stdout",
          "output_type": "stream",
          "text": [
            "[1 1 1 1 1 0 0 0 0 0 0 1 1 0 2]\n",
            "<class 'numpy.ndarray'>\n",
            "[[1]\n",
            " [1]\n",
            " [1]\n",
            " [1]\n",
            " [1]\n",
            " [0]\n",
            " [0]\n",
            " [0]\n",
            " [0]\n",
            " [0]\n",
            " [0]\n",
            " [1]\n",
            " [1]\n",
            " [0]\n",
            " [2]]\n",
            "<class 'numpy.ndarray'>\n",
            "  (0, 1)\t1.0\n",
            "  (1, 1)\t1.0\n",
            "  (2, 1)\t1.0\n",
            "  (3, 1)\t1.0\n",
            "  (4, 1)\t1.0\n",
            "  (5, 0)\t1.0\n",
            "  (6, 0)\t1.0\n",
            "  (7, 0)\t1.0\n",
            "  (8, 0)\t1.0\n",
            "  (9, 0)\t1.0\n",
            "  (10, 0)\t1.0\n",
            "  (11, 1)\t1.0\n",
            "  (12, 1)\t1.0\n",
            "  (13, 0)\t1.0\n",
            "  (14, 2)\t1.0\n",
            "<class 'scipy.sparse._csr.csr_matrix'>\n"
          ]
        }
      ],
      "source": [
        "# <예제 5-12> 원핫인코딩\n",
        "# -*- coding: utf-8 -*-\n",
        "\n",
        "# 라이브러리 불러오기\n",
        "import pandas as pd\n",
        "import numpy as np\n",
        "\n",
        "# read_csv() 함수로 df 생성\n",
        "df = pd.read_csv('./auto-mpg.csv', header=None)\n",
        "\n",
        "# 열 이름을 지정\n",
        "df.columns = ['mpg','cylinders','displacement','horsepower','weight',\n",
        "              'acceleration','model year','origin','name']\n",
        "\n",
        "# horsepower 열의 누락 데이터('?') 삭제하고 실수형으로 변환\n",
        "df['horsepower'].replace('?', np.nan, inplace=True)      # '?'을 np.nan으로 변경\n",
        "df.dropna(subset=['horsepower'], axis=0, inplace=True)   # 누락데이터 행을 삭제\n",
        "df['horsepower'] = df['horsepower'].astype('float')      # 문자열을 실수형으로 변환\n",
        "\n",
        "# np.histogram 으로 3개의 bin으로 나누는 경계 값의 리스트 구하기\n",
        "count, bin_dividers = np.histogram(df['horsepower'], bins=3)\n",
        "\n",
        "# 3개의 bin에 이름 지정\n",
        "bin_names = ['저출력', '보통출력', '고출력']\n",
        "\n",
        "# pd.cut 으로 각 데이터를 3개의 bin에 할당\n",
        "df['hp_bin'] = pd.cut(x=df['horsepower'],     # 데이터 배열\n",
        "                      bins=bin_dividers,      # 경계 값 리스트\n",
        "                      labels=bin_names,       # bin 이름\n",
        "                      include_lowest=True)    # 첫 경계값 포함\n",
        "\n",
        "# sklern 라이브러리 불러오기\n",
        "from sklearn import preprocessing\n",
        "\n",
        "# 전처리를 위한 encoder 객체 만들기\n",
        "label_encoder = preprocessing.LabelEncoder()       # label encoder 생성\n",
        "onehot_encoder = preprocessing.OneHotEncoder()   # one hot encoder 생성\n",
        "\n",
        "# label encoder로 문자열 범주를 숫자형 범주로 변환\n",
        "onehot_labeled = label_encoder.fit_transform(df['hp_bin'].head(15))\n",
        "print(onehot_labeled)\n",
        "print(type(onehot_labeled))\n",
        "\n",
        "# 2차원 행렬로 형태 변경\n",
        "onehot_reshaped = onehot_labeled.reshape(len(onehot_labeled), 1)\n",
        "print(onehot_reshaped)\n",
        "print(type(onehot_reshaped))\n",
        "\n",
        "# 희소행렬로 변환\n",
        "onehot_fitted = onehot_encoder.fit_transform(onehot_reshaped)\n",
        "print(onehot_fitted)\n",
        "print(type(onehot_fitted))"
      ]
    },
    {
      "cell_type": "markdown",
      "metadata": {
        "id": "NPat05Ybp-m1"
      },
      "source": [
        "![image.png](data:image/png;base64,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)"
      ]
    },
    {
      "cell_type": "markdown",
      "metadata": {
        "id": "1DMayID7qqnq"
      },
      "source": [
        "# 5. 정규화(normalization)\n",
        "* 각 열(변수)에 속하는 데이터 값을 동일한 크기 기준으로 나눈 비율로 나타내는 것\n",
        "\n",
        "* (1) 각 열(변수)의 데이터를 해당 열의 최댓값(의 절댓값)으로 나누는 방법(가장 큰 값은 최댓값 자기자신을 나눈 1)"
      ]
    },
    {
      "cell_type": "code",
      "execution_count": null,
      "metadata": {
        "colab": {
          "base_uri": "https://localhost:8080/"
        },
        "id": "NVSsTeYBa2iI",
        "outputId": "0c57a42b-81b6-4eae-fa99-77633f5bf0ab"
      },
      "outputs": [
        {
          "name": "stdout",
          "output_type": "stream",
          "text": [
            "count    392.000000\n",
            "mean     104.469388\n",
            "std       38.491160\n",
            "min       46.000000\n",
            "25%       75.000000\n",
            "50%       93.500000\n",
            "75%      126.000000\n",
            "max      230.000000\n",
            "Name: horsepower, dtype: float64\n",
            "\n",
            "\n",
            "0    0.565217\n",
            "1    0.717391\n",
            "2    0.652174\n",
            "3    0.652174\n",
            "4    0.608696\n",
            "Name: horsepower, dtype: float64\n",
            "\n",
            "\n",
            "count    392.000000\n",
            "mean       0.454215\n",
            "std        0.167353\n",
            "min        0.200000\n",
            "25%        0.326087\n",
            "50%        0.406522\n",
            "75%        0.547826\n",
            "max        1.000000\n",
            "Name: horsepower, dtype: float64\n"
          ]
        }
      ],
      "source": [
        "# <예제 5-13> 정규화\n",
        "# -*- coding: utf-8 -*-\n",
        "\n",
        "# 라이브러리 불러오기\n",
        "import pandas as pd\n",
        "import numpy as np\n",
        "\n",
        "# read_csv() 함수로 df 생성\n",
        "df = pd.read_csv('./auto-mpg.csv', header=None)\n",
        "\n",
        "# 열 이름을 지정\n",
        "df.columns = ['mpg','cylinders','displacement','horsepower','weight',\n",
        "              'acceleration','model year','origin','name']\n",
        "\n",
        "# horsepower 열의 누락 데이터('?') 삭제하고 실수형으로 변환\n",
        "df['horsepower'].replace('?', np.nan, inplace=True)      # '?'을 np.nan으로 변경\n",
        "df.dropna(subset=['horsepower'], axis=0, inplace=True)   # 누락데이터 행을 삭제\n",
        "df['horsepower'] = df['horsepower'].astype('float')      # 문자열을 실수형으로 변환\n",
        "\n",
        "# horsepower 열의 통계 요약정보로 최대값(max)을 확인\n",
        "print(df.horsepower.describe())\n",
        "print('\\n')\n",
        "\n",
        "# horsepower 열의 최대값의 절대값으로 모든 데이터를 나눠서 저장\n",
        "df.horsepower = df.horsepower / abs(df.horsepower.max())\n",
        "\n",
        "print(df.horsepower.head())\n",
        "print('\\n')\n",
        "print(df.horsepower.describe())"
      ]
    },
    {
      "cell_type": "markdown",
      "metadata": {
        "id": "Ke3akXxhcTCW"
      },
      "source": [
        "* (2) 각 열(변수)의 데이터 중에서 최댓값(max)과 최솟값(min)을 뺀 값으로 나누는 방법\n",
        "  * 각 열 데이터에서 해당 열의 최솟값을 뺀 값을 분자로 하고, 해당 열의 최댓값과 최솟값의 차를 분포로 하는 수를 계산(최소 0부터 최대 1 사이의 범위로 변환)"
      ]
    },
    {
      "cell_type": "code",
      "execution_count": null,
      "metadata": {
        "colab": {
          "base_uri": "https://localhost:8080/"
        },
        "id": "zwETWBz2YZMb",
        "outputId": "4aa80f27-d444-4071-9959-d316e5548b35"
      },
      "outputs": [
        {
          "name": "stdout",
          "output_type": "stream",
          "text": [
            "count    392.000000\n",
            "mean     104.469388\n",
            "std       38.491160\n",
            "min       46.000000\n",
            "25%       75.000000\n",
            "50%       93.500000\n",
            "75%      126.000000\n",
            "max      230.000000\n",
            "Name: horsepower, dtype: float64\n",
            "\n",
            "\n",
            "0    0.456522\n",
            "1    0.646739\n",
            "2    0.565217\n",
            "3    0.565217\n",
            "4    0.510870\n",
            "Name: horsepower, dtype: float64\n",
            "\n",
            "\n",
            "count    392.000000\n",
            "mean       0.317768\n",
            "std        0.209191\n",
            "min        0.000000\n",
            "25%        0.157609\n",
            "50%        0.258152\n",
            "75%        0.434783\n",
            "max        1.000000\n",
            "Name: horsepower, dtype: float64\n"
          ]
        }
      ],
      "source": [
        "# <예제 5-14> 정규화\n",
        "# -*- coding: utf-8 -*-\n",
        "\n",
        "# 라이브러리 불러오기\n",
        "import pandas as pd\n",
        "import numpy as np\n",
        "\n",
        "# read_csv() 함수로 df 생성\n",
        "df = pd.read_csv('./auto-mpg.csv', header=None)\n",
        "\n",
        "# 열 이름을 지정\n",
        "df.columns = ['mpg','cylinders','displacement','horsepower','weight',\n",
        "              'acceleration','model year','origin','name']\n",
        "\n",
        "# horsepower 열의 누락 데이터('?') 삭제하고 실수형으로 변환\n",
        "df['horsepower'].replace('?', np.nan, inplace=True)      # '?'을 np.nan으로 변경\n",
        "df.dropna(subset=['horsepower'], axis=0, inplace=True)   # 누락데이터 행을 삭제\n",
        "df['horsepower'] = df['horsepower'].astype('float')      # 문자열을 실수형으로 변환\n",
        "\n",
        "# horsepower 열의 통계 요약정보로 최대값(max)과 최소값(min)을 확인\n",
        "print(df.horsepower.describe())\n",
        "print('\\n')\n",
        "\n",
        "# horsepower 열의 최대값의 절대값으로 모든 데이터를 나눠서 저장\n",
        "min_x = df.horsepower - df.horsepower.min()\n",
        "min_max = df.horsepower.max() - df.horsepower.min()\n",
        "df.horsepower = min_x / min_max\n",
        "\n",
        "print(df.horsepower.head())\n",
        "print('\\n')\n",
        "print(df.horsepower.describe())"
      ]
    },
    {
      "cell_type": "markdown",
      "metadata": {
        "id": "Y_XAWMt3qAQN"
      },
      "source": [
        "![image.png](data:image/png;base64,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)"
      ]
    },
    {
      "cell_type": "markdown",
      "metadata": {
        "id": "N_UJb8addxha"
      },
      "source": [
        "# 6. 시계열 데이터\n",
        "* 판다스의 시간 표시 방식 중에서 시계열 데이터 표현에 자주 이용되는 두 가지 유형\n",
        "  * 특정한 시점을 기록하는 Timestamp와 두 시점 사이의 일정한 기간을 나타내는 Period\n",
        "\n",
        "* [그림] 판다스 시간 표시\n",
        "\n",
        "![image.png](data:image/png;base64,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)\n",
        "\n",
        "![image.png](data:image/png;base64,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)"
      ]
    },
    {
      "cell_type": "markdown",
      "metadata": {
        "id": "5cKRmHbEqlmF"
      },
      "source": [
        "## 6-1 다른 자료형을 시계열 객체로 변환\n",
        "\n",
        "### 1. 문자열을 Timestamp(판다스 시계열 객체)로 변환\n",
        "* to_datetime() 함수를 사용하면 문자열 등 다른 자료형을 판다스 Timestamp를 나타내는 datetime64 자료형으로 변환 가능"
      ]
    },
    {
      "cell_type": "code",
      "execution_count": null,
      "metadata": {
        "colab": {
          "base_uri": "https://localhost:8080/"
        },
        "id": "I3_i7PrdfS6P",
        "outputId": "cdf969fd-614b-49f1-fbb9-4a8ca3262d7a"
      },
      "outputs": [
        {
          "name": "stdout",
          "output_type": "stream",
          "text": [
            "         Date  Close  Start   High    Low  Volume\n",
            "0  2018-07-02  10100  10850  10900  10000  137977\n",
            "1  2018-06-29  10700  10550  10900   9990  170253\n",
            "2  2018-06-28  10400  10900  10950  10150  155769\n",
            "3  2018-06-27  10900  10800  11050  10500  133548\n",
            "4  2018-06-26  10800  10900  11000  10700   63039\n",
            "\n",
            "\n",
            "<class 'pandas.core.frame.DataFrame'>\n",
            "RangeIndex: 20 entries, 0 to 19\n",
            "Data columns (total 6 columns):\n",
            " #   Column  Non-Null Count  Dtype \n",
            "---  ------  --------------  ----- \n",
            " 0   Date    20 non-null     object\n",
            " 1   Close   20 non-null     int64 \n",
            " 2   Start   20 non-null     int64 \n",
            " 3   High    20 non-null     int64 \n",
            " 4   Low     20 non-null     int64 \n",
            " 5   Volume  20 non-null     int64 \n",
            "dtypes: int64(5), object(1)\n",
            "memory usage: 1.1+ KB\n",
            "None\n"
          ]
        }
      ],
      "source": [
        "# <예제 5-15> 문자열을 Timestamp로 변환\n",
        "# -*- coding: utf-8 -*-\n",
        "\n",
        "# 라이브러리 불러오기\n",
        "import pandas as pd\n",
        "\n",
        "# read_csv() 함수로 CSV 파일을 가져와서 df로 변환\n",
        "df = pd.read_csv('stock-data.csv')\n",
        "\n",
        "# 데이터 내용 및 자료형 자료형 확인\n",
        "print(df.head())\n",
        "print('\\n')\n",
        "print(df.info())"
      ]
    },
    {
      "cell_type": "code",
      "execution_count": null,
      "metadata": {
        "colab": {
          "base_uri": "https://localhost:8080/"
        },
        "id": "SwLBIK00fYee",
        "outputId": "76e83724-79d2-48a0-be06-35304956d057"
      },
      "outputs": [
        {
          "name": "stdout",
          "output_type": "stream",
          "text": [
            "         Date  Close  Start   High    Low  Volume   new_Date\n",
            "0  2018-07-02  10100  10850  10900  10000  137977 2018-07-02\n",
            "1  2018-06-29  10700  10550  10900   9990  170253 2018-06-29\n",
            "2  2018-06-28  10400  10900  10950  10150  155769 2018-06-28\n",
            "3  2018-06-27  10900  10800  11050  10500  133548 2018-06-27\n",
            "4  2018-06-26  10800  10900  11000  10700   63039 2018-06-26\n",
            "\n",
            "\n",
            "<class 'pandas.core.frame.DataFrame'>\n",
            "RangeIndex: 20 entries, 0 to 19\n",
            "Data columns (total 7 columns):\n",
            " #   Column    Non-Null Count  Dtype         \n",
            "---  ------    --------------  -----         \n",
            " 0   Date      20 non-null     object        \n",
            " 1   Close     20 non-null     int64         \n",
            " 2   Start     20 non-null     int64         \n",
            " 3   High      20 non-null     int64         \n",
            " 4   Low       20 non-null     int64         \n",
            " 5   Volume    20 non-null     int64         \n",
            " 6   new_Date  20 non-null     datetime64[ns]\n",
            "dtypes: datetime64[ns](1), int64(5), object(1)\n",
            "memory usage: 1.2+ KB\n",
            "None\n",
            "\n",
            "\n",
            "<class 'pandas._libs.tslibs.timestamps.Timestamp'>\n"
          ]
        }
      ],
      "source": [
        "# 문자열 데이터(시리즈 객체)를 판다스 Timestamp로 변환\n",
        "df['new_Date'] = pd.to_datetime(df['Date'])   #df에 새로운 열로 추가\n",
        "\n",
        "# 데이터 내용 및 자료형 자료형 확인\n",
        "print(df.head())\n",
        "print('\\n')\n",
        "print(df.info())\n",
        "print('\\n')\n",
        "print(type(df['new_Date'][0]))"
      ]
    },
    {
      "cell_type": "code",
      "execution_count": null,
      "metadata": {
        "colab": {
          "base_uri": "https://localhost:8080/"
        },
        "id": "5oUYQbBFfvSW",
        "outputId": "62864b13-9812-4d12-a68d-bd8f78a4305e"
      },
      "outputs": [
        {
          "name": "stdout",
          "output_type": "stream",
          "text": [
            "            Close  Start   High    Low  Volume\n",
            "new_Date                                      \n",
            "2018-07-02  10100  10850  10900  10000  137977\n",
            "2018-06-29  10700  10550  10900   9990  170253\n",
            "2018-06-28  10400  10900  10950  10150  155769\n",
            "2018-06-27  10900  10800  11050  10500  133548\n",
            "2018-06-26  10800  10900  11000  10700   63039\n",
            "\n",
            "\n",
            "<class 'pandas.core.frame.DataFrame'>\n",
            "DatetimeIndex: 20 entries, 2018-07-02 to 2018-06-01\n",
            "Data columns (total 5 columns):\n",
            " #   Column  Non-Null Count  Dtype\n",
            "---  ------  --------------  -----\n",
            " 0   Close   20 non-null     int64\n",
            " 1   Start   20 non-null     int64\n",
            " 2   High    20 non-null     int64\n",
            " 3   Low     20 non-null     int64\n",
            " 4   Volume  20 non-null     int64\n",
            "dtypes: int64(5)\n",
            "memory usage: 960.0 bytes\n",
            "None\n"
          ]
        }
      ],
      "source": [
        "# 시계열 값으로 변환된 열을 새로운 행 인덱스로 지정. 기존 날짜 열은 삭제\n",
        "df.set_index('new_Date', inplace=True)\n",
        "df.drop('Date', axis=1, inplace=True)\n",
        "\n",
        "# 데이터 내용 및 자료형 자료형 확인\n",
        "print(df.head())\n",
        "print('\\n')\n",
        "print(df.info())"
      ]
    },
    {
      "cell_type": "markdown",
      "metadata": {
        "id": "us5p44yPqI8u"
      },
      "source": [
        "![image.png](data:image/png;base64,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)"
      ]
    },
    {
      "cell_type": "markdown",
      "metadata": {
        "id": "5MB1KZZ4qhhr"
      },
      "source": [
        "### 2. Timestamp를 Period로 변환\n",
        "* 판다스 to_period() 함수를 이용하면 일정한 기간을 나타내는 Period 객체로 Timestamp 객체를 변환할 수 있다.\n",
        "* DatetimeIndex가 PeriodIndex로 변환되고, 자료형은 datetime64에서 period으로 변환\n",
        "* freq 옵션에 기준이 되는 기간을 설정\n",
        "  * 'D'로 지정할 경우 1일의 기간\n",
        "  * 'M'은 1개월의 기간\n",
        "  * 'A'는 1년의 기간(1년이 끝나는 12월을 기준으로 삼는다.)"
      ]
    },
    {
      "cell_type": "code",
      "execution_count": null,
      "metadata": {
        "colab": {
          "base_uri": "https://localhost:8080/"
        },
        "id": "_RYt2FGEkcJg",
        "outputId": "18d23faf-1e1f-41ae-c819-1828b719e30b"
      },
      "outputs": [
        {
          "name": "stdout",
          "output_type": "stream",
          "text": [
            "DatetimeIndex(['2019-01-01', '2020-03-01', '2021-06-01'], dtype='datetime64[ns]', freq=None)\n",
            "\n",
            "\n",
            "PeriodIndex(['2019-01-01', '2020-03-01', '2021-06-01'], dtype='period[D]')\n",
            "PeriodIndex(['2019-01', '2020-03', '2021-06'], dtype='period[M]')\n",
            "PeriodIndex(['2019', '2020', '2021'], dtype='period[A-DEC]')\n"
          ]
        }
      ],
      "source": [
        "# <예제 5-16> Timestamp를 Period로 변환\n",
        "# -*- coding: utf-8 -*-\n",
        "\n",
        "# 라이브러리 불러오기\n",
        "import pandas as pd\n",
        "\n",
        "# 날짜 형식의 문자열로 구성되는 리스트 정의\n",
        "dates = ['2019-01-01', '2020-03-01', '2021-06-01']\n",
        "\n",
        "# 문자열 데이터(시리즈 객체)를 판다스 Timestamp로 변환\n",
        "ts_dates = pd.to_datetime(dates)\n",
        "print(ts_dates)\n",
        "print('\\n')\n",
        "\n",
        "# Timestamp를 Period로 변환\n",
        "pr_day = ts_dates.to_period(freq='D')\n",
        "print(pr_day)\n",
        "pr_month = ts_dates.to_period(freq='M')\n",
        "print(pr_month)\n",
        "pr_year = ts_dates.to_period(freq='A')\n",
        "print(pr_year)"
      ]
    },
    {
      "cell_type": "markdown",
      "metadata": {
        "id": "GesU1kC_kplX"
      },
      "source": [
        "* freq 옵션의 종류\n",
        "\n",
        "|옵션|설명|옵션|설명|\n",
        "|----|----|----|----|\n",
        "|D|day(1일)|B|business day(휴일 제외)|\n",
        "|W|week(1주)|H|hour(1시간)|\n",
        "|M|month end(월말)|T|minute(1분)|\n",
        "|MS|month begin(월초)|S|second(1초)|\n",
        "|Q|quarter end(분기말)|L|millisecond(1/1,000초)|\n",
        "|QS|quarter begin(분기초)|U|microsecond(1/1,000,000초)|\n",
        "|A|year end(연말)|N|nanosecond(1,000,000,000초)|\n",
        "|AS|year begin(연초)|...|...|\n",
        "\n",
        "![image.png](data:image/png;base64,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)"
      ]
    },
    {
      "cell_type": "markdown",
      "metadata": {
        "id": "OXK2pUCSqKWZ"
      },
      "source": [
        "![image.png](data:image/png;base64,iVBORw0KGgoAAAANSUhEUgAABX4AAABJCAIAAAAFaamIAAAciklEQVR4nO3daXQd1bUn8L1PVd1R0tU8WpKlIMtyPPIYHHCyVsA4r+0QeGE0hGWShmAgJvCax5D26sWikxfSJG06LBoD60EDjo0xGEhC40UIpmNiY0eWR1nCkuVJsubx6o5VdU5/KOn6WvIE+JoE/X8ftKRzqk6dqm9n6+x9WClFAAAAAAAAAACpIb7sCQAAAAAAAADAVxlCDwAAAAAAAACQQgg9AAAAAAAAAEAKIfQAAAAAAAAAACmE0AMAAAAAAAAApBBCDwAAAAAAAACQQgg9AAAAAAAAAEAKIfQAAAAAAAAAACmkf9kTAAAAAAAAAEg5pdSXPYW/a8ycwsHx9QEAAAAAAAAgdbDrAQAAAAAAAL7ilFLOf/UbGhoOHTrkcrlmz56dk5OTaCei1tbW3t7eWbNmJd949OjR999/3+/3L1q0KD09PXnAurq6srKyvLw8pyUej//5z38Oh8Mulysej3u93iuuuMLj8Ti9nZ2dhw8fvuSSSxIjSClra2urqqqysrJONeGGhoZPPvmkqqpq3rx5ianW19dnZWUVFxe3t7f39vZOnz7d6VJKDQ4ONjQ0XHrppUIcr65QX19/+PBhj8dz4YUXZmZmOhd3dnZu377dMAwhRDQanTZtWkVFxTn51CeFXQ8AAAAAAADwFeest23bvvnmmxsaGlwuVyAQeO6556ZMmZK45oknnvjwww83bNiQWLe3trbedtttzpK+qqrqpZde8vv9Ttfw8PCVV165bNmyH/zgB05LZ2fnLbfc0tXVJaXUNC07O3v16tXFxcVO76OPPrp69er33ntv2rRpiesXLFjw85///Oqrrz7pnDdv3rxs2TKfz3f06NEHH3zwJz/5CRGFQqEFCxbMmDFj5cqVP/3pT7ds2fL+++9nZmY6t6xYseKJJ5546623LrvsMqclFApdd911HR0dRJSfn79y5crKykoiWr9+/cMPP+z1ep1r7rjjjkcfffRcfe3xUGYSAAAAAAAAJgQhRCgUWrx48bvvvmtZ1u9+97vxFyT/uWnTpt7e3vXr17/22muapg0NDSW6nPhC8sUFBQVvv/32008/bRjGU0899fvf/z4Rd4hEIvX19YZh/O1vf0seQdf10+wGePPNN4uLizdt2vTII48kJhaPx/1+/+HDh1taWg4ePOj3++PxuNOllNqxY4fP59u8eXNiENu2g8Hgfffd94c//KG/v//111932hctWvTRRx9973vfKykp+eCDD+6///6z+4SfExIuAAAAAAAAYKJgZl3Xi4qKZs2a1dnZmdwlhBgTeojFYmlpaW63u7q6es2aNWPGEUKMKc2Ynp5eUFCglCooKMjIyEi0Nzc3m6Z51VVXbdu2bcmSJacZIVl+fv6GDRu2bNmydOlSIpJSOtPLzs7Oysp65plnysrKnO0Mjra2tq6urkWLFtXV1SWyM5xEjOzs7NLS0tzc3ET0xO12l5SUZGZmGoaR0lQLB3Y9AAAAAAAAwAQipSQi27bHbFsYTwihaVowGHzqqadWrFjR19d3xsFN02Rm0zSTG+vq6rKzsxcuXFhfXz88PHyW81yyZElNTc3NN9/8yCOPDA0NOXEHZg6HwzNnzty8eXN1dXU4HE4EL/bs2aNp2ve///3Dhw8nhyT8fv/bb7/90EMPtba2zp8/P/kRUsrzU4QBoQcAAAAAAACYcJztAKe/xtk7wMxHjhz5zW9+s2fPns/3rG3btk2ePHnu3LnBYLCpqelsblFKFRYWrlu3bvny5evWrXvssceciAkzDw0N5eXl/fCHPywqKhoaGkqEHmpra4uLi+fOnauU2rt3b2IowzAOHTq0bt26e+6554orrvh8r/AFIfQAAAAAAAAAE4VSyjl1IhKJnCbZwSGljMViBQUFv/zlL3Nzc894/UnFYrGGhoaampq8vLysrKy6urrETKSUTqHHkzpy5MjAwMCdd975wAMPbNy4MZErEY/HTdP88Y9/LKWMx+OJWe3YsWPq1Kk+n6+oqGjr1q2JcYaHh5cuXXr11Vfv3Lnzc8z/nEDoAQAAAAAAACYEKaWUcvv27StWrNi0adOll16a3BuNRiORSPJWiMrKyt7e3pdeeunpp58mouSaCLZth8PhRInH5PZQKGTbdqKlsbGxtbXVOdiioqJi48aNTrsQQim1du3alStXrlixYvfu3cnjMPOTTz65ePHi7du3NzY2ZmdnOxETpVQkEolEIkQUDocjkYjzrCNHjuzbt+/rX/86EVVXV2/atMnZJSGlDIVCQoh77713w4YN7733XvJTYrFYNBr9nF/zs0DoAQAAAAAAACYEIcS8efO6u7s3bNhw77333nzzzcmBhqqqqgsvvDC50uS8efPuuuuuZ555Zv369cuXLy8tLU10eb3eiy++uKysbMwjcnJy5s6dm5ubm2iRUl555ZXOKZ4LFixIDJKbm3v77bc3NTWtWbNm1apVySkSjttvv9227SVLluzatWv58uVO6MHj8dTU1BQWFhJRSUlJTU2Nz+cjItu2v/nNb86ePZuI5s+fP2XKFCf04Ha7a2pq0tLSqqurFy5cOCbdo6ysLHHYZ0qdObkFAAAAAAAA4B9a4sQHIjJNU9f1s8+eGBgYMAzD7/efYmT6rHkYyZOJRqNSSmY+aeZFJBI5cuRIYWFhIBBINMbjccMwnFoVpmm5XMbpHxePx533dTZ9JL+7k/RxxnKbXxxCDwAAAAAAAPAVl7zaH2khIiIe+V0SEZ82LUCN/ODEr86ASkli5pEQhPOTVWLk0ecqRTzarJRkFnR8wM/yIqTYGYQUjQQ9jg9y4msqZ8nPzERKKiVYnHjN6HxGx0wdhB4AAAAAAADgK85Zbyct18ddcLou54dkEqNrdUkk+PiNajRsoUYjGmp8fQNFkojHP0UREdlMZ7H14MRZKkXMUhEx8clCGCOBEkWKiYgEkUxs0UiOvNDJZntu6SkdHQAAAAAAAODvSqizX0npLL6ZSPd73AG/s1VBnnwJrogUK7ZYNXYOBryu0gxf0l4DyaS1hyJdwei0ggyDlSLtpHsZFClBQpEV7twZ7zuozIjwZLpyL/BkT2PSzrz1QJFSigXHldk+2FmQnufR3Op0tyR2Wwil1GBvODPXy8RK2cyClGImIo5FTLfXdbbf7vNC6AEAAAAAAAAmBDtqNfzi9aG/1gtdS+weYI/LU56fu+ii4n++8DRZEJL5Pza3/HHHEb9HWza/5vLyPKedSdvXPfSr/7unJxj71tT8+79d4zrJ9gVFxIK0cFdd319/G2/fTXbc2YNBbp+7/LLcy//VnV52puwLxYKPDLSt/Oi5owOHi9MnLf32XRXZZafOl5BExMw9raG3n23sOhgtnuq79p6pmbkeIsUsgv3R9f/7084Dw9++qfTi74ytl3lu4YQLAAAAAAAAmBB6P9nf+9YWV8Q2QqYeMvVhSxs2qXs4/HFj80MvN/7yDTlakSC5MAETMYn+aPzjpk6vxxOK0l/2dyUP+8nBnu6gneHzbWvpPxaMJac/OOkYTpAh1FHb8fY91tFaXXfpLp9meAx3mk4cb9zQ/sdlZridiJRSTuGJcUb2N7y2bW1j5z5d15p796/65HeSFLGT3zGeMw1+f1Vz89+Glak3/GXw/71xMDG3nR+17/2oZ7hLbVrf9gU+6llB6AEAAAAAAAAmBBWKGoauXIata5ZtRWPRWCSibNuV4fUG/D2rNra9tZWIiCSNW8zbUmksBLGhn2Qd7dKZmVyaUHLMjaxIMQlph3s//rWIhjRvQFlxqXsoI9+SplJKS8uRXZ/2fPI0nTzocHyonkj/gZ7mDG+6IC3Dm36gu7l14BiNBDhOcj0RKWUHe02v3yV08me4j9YHTdN2QgGxiHJ7DJdHs62Ul4BE6AEAAAAAAAAmBkMjwZoiFY3mXD/vgid/WPbI9cbXJ8UjUdaE7vV2rf+rbdonzXtgZiGYWTq/JncJPr7tYEwNSR6NC4Q76qzOBs2TZsfDXDy96Lr/KL5xTdYVyyUptuKa5jK7GiVZdIozP53hD3Q1D0YGNKERkWAtHA/t79jvTOEUNylFikfTMXRD9LbH2g8GnW5NYyYmlmd/zujnhtADAAAAAAAATAhOBoIkZZl21iVVhVfMKLtp3oynl+qVhTIS19xG7FhftKN/XOWE0YMyR46rPMnI6niGxZj2kToMsd4mtm0iJYmyL/qRO7NKMwKZ1f+SPvfHZjwcJ+Wv+a5GLkVKnXqd3tx1QCqpiCxpK1KscVN3E52iQoQiIhJEQjEplkoo0igeVYf3DSRd8ZlP9/x8EHoAAAAAAACAiUKNBCBYRk0iUqRcae7MedOtWFQwk6nMcJTodNUTPvsWAUVEKh4eWeMLwa50IiKSimTO7Dvyb3yx5PqXs2f9UCnikYMwxz+YFamW7hZd05Ti8rwKZmFo+qGeQ6YdP8VzmUbjCrYkX5qomOEjm1v2DDhTGo2wIPQAAAAAAAAAkGrCyYwgEkIzjHM4MBM7627hCZBSUghhmcP73iYiJsGKiDit8FJf4YWKmFny+CITo3rDfa0Drbqm66x/s3Keiw1NaF3DXa1Dx84wB6WIlRVXJVXp7nTRcSA81Bc9h+94NhB6AAAAAAAAgAlEEZFSwq0TERPblhz6pFG4XNK2RMDjystQROduL8DILgZ33jSle1hKzeUP1f++c9N/t61BYkFEimxJSjjZHMR8imKTh3qPDkUHFVGa2z+rdEaaJ11KFY6HD/YcPtMcWCMKh6ysAl9OiTHUZbU2BYlIqZGMi/MAoQcAAAAAAACYQJiIDW1439H+upauj/bu/bcXo42tus9tBaMZ//Q1V7qXkmo3fHGKSBH58me6Jl8qI4MkhK57QzvWHn3j9oHmdxRZTNrowzixS2K8A13NtpK2beWl5+f7cosChaZtEanmzuYzTICJia247fKIsqmBaMRq2d1HRDQSeyFinHABAAAAAAAAcM6wYmV4XR2vbtx398r9D74Y2dRoeD0yZhvTJpX/+J85BaUXFRGznj/vIZVdZkUGiFnzZmi9h/re+69tb/0o3FnLxGcMdjR3H9CFZku7PLeMiMpyy6WUhm60dB805anKPSSwtFUsalXMyNJ0OrIvSET+dEEkWZ2qvsS5hNADAAAAAAAATBxKKWYSOrHB5DJcutdDRNK2PAXZroB/5KJz9jhmIialSBkZk4u/96wou9iKDIh4lFxe3ZNht+5of2vpQOPrp1/990UHW/uP6rrOpFVkVxBRRdZkXei6pnUOd7YHu043A6UUkyI12BOfPC0zPcfV0xob7ImmZ3lInI8ak4TQAwAAAAAAAEwoTMpWJAMeURhQ2b6YGZPRmO7zDP1ld/2jr9iWfYrjLb7IE4mJSEl3oLLsmpVZ8/+bzJ4Ujw6SbWmeDENRzwc/H2x5j4jUSH7GCDXSQkf6jgxGBgUJr+GblF1CRCVZxX63TxGFY6GD3YeJSJEcc/vIIExOKsdwfzwt01042TfcHz+4p9+f6RFCoNYDAAAAAAAAwLnk/JffCoUn3bVw9qsPzl71r1P+1x16ZZ4dibkDaYMf7e7etI/Pcb4Fj57K6Zxo4cn6+uKS618NXPYTi4ismNBdOov+v/7WivfwSeouMBE1dzVZ0rSlnZOenZ+eT0S5/tz8jDzLshWr/Z37nStPM2/BWmjIJKLyaRnS5ubdvYZLaAYrdfKqlucWQg8AAAAAAAAwUSinjqNSeoZbT3e7s9LyLq2e/G83mIJIsYu13o/2pO7pPDIHqRmB3H+6O2/hv1u6IW1LuHx2/5HwoY9H+pPm69zS1NWsCc20zdLMSR7NRaR0oZVml1u26dKMlp4WS1mjYYux8QdWRKSYOR6VRFQ5O9OTJo41RSJB03DT+TnjAqEHAAAAAAAAmDgUkZLMZEoaXXanTyl252eSZbOhxY71jCkz6VzjHEVJYzMaxv2uTmh3MiDkyJ882ihJSUkyvWx++pwfSDPiHGsR62lKvixhIDrY2t/m0g1py/KcCho9gGNyVoVSUtf1rmBn5+nKPYxEPJiZiCZVBXKKPb3HIj1tIW+6puT5KPeA0AMAAAAAAABMFIpIEAvFxMeXw6xIKaVIKSY2xycgJOILSilWJEcSG5RyCjEwEbEkYmJW4xImFJFzXah988CBP9hmkElnYkGKiPyTv6lcHpKSmWU8RCPHXY5OjIiIjva3DYb7hdA0oZdlT0q0l+WUujQPMw/Hhlu6D532vY+f2enxGsVV6ZGg1X4g7PW51Hkp9oDQAwAAAAAAAEwUTESkJBHpYvRPGtxzON7VL3SNpCK/m0+WhKBrQrAkJsFiOGIREbFkJYhoKBJj0ogUk62duMh2xteYB/evb3/zrt53Hujc+BgTSWZFgoiUHSNpK2ZFSnOljXmoM43mrqa4HZek0j3pkzJLEr0lgaJMX6YtbaXUp5376cSwxWlUzkzXDT64dyg0GGftbO74ohB6AAAAAAAAgAlEErFgsycY7Q0GW3uOvVd34H+8YZAuNZZx019TRkQnHnLBRCrN0AMely2l2xDNXUNbW3uJNGLa3xfccaTPYwhbkc9lZHndREodz60YEW75SLdtlz83tv9PffWvMBETSxnu3/0a2TYzS0V6TsWJN9HxQg8a25ZVEMjL9eckegOejMJAoW1Zhq4d7DloK/ssv0DF9Ky0LH2oOx4Zktp5OV9TPw/PAAAAAAAAAPjSKelUXWC3z9P2/Ia2//OBjJlyMKzrmuZxyWhMZXgKF15MRCeWe1BE5BJaTXHW/o5Wj99jSvvpDz59vzBNCG7qCEZMcuk8GDYvmpwTcBlENtHIXgIm5exucBfOiDS+L1hoLu/QX34bafmrSCs0exvtzibd7ZdmVGQU+csuP6EmBBERD0SHjvYdNTR3zDRLM8sEn7CBoCy7dHfrbp/H0znU2RHsKskoSn5dSjpxU7GtaCQ2kV3ozyn1dXwaYU2TlpSpP+MCux4AAAAAAABgQpCSpCmZiJhF1BIDES1qub0eNjQrGInG4mUP/EtGZb6kE0ovjuZfqO/OKM7LMIajlqELW9KOw4PbDw5GTXbpHIlLr4uunTnJ2fLAx8tMCiKpiALTbtRL59jhPo2EphnmkU+ie99UXU26yyOtmGlFsi690/AWjs/06Bzq6g51aaxbMlqeO3lM7+Tsr0llMYmh2ED3cPfIM0en7fy0LVKKyCYr5nTZQnDl9Ixo1CJS0mIhUh4ZQOgBAAAAAAAAJoTAhZXGBfnhvv740HAsHI5FolY4Gg2FTcvWphVX/8//XHbdN4gUk1CUXC5SEZFSVJTm/S/fmVaYqfcHY5G4ZBJMFDWt/uFYhocfuKq6KjdDnrDwH7mXldRdgaL/9KTxtW/FYsNmZIgVCaEraZrhfmV4s69cnllzkyIitsecmlEUKKjIqewb7ivOKJ8zaeYJcyKaXjS1JLOsN9hbEiidlFkyrkiFYtbLZ6SHQpGYGauYkUGjp2PM/nZhoEAf7I9E49GLFuafy698MqzOTzlLAAAAAAAAgC+JUiNHS4Y7Bge2fkpSEY9GBzwuX1leYGoxC1ZJp2DyibcTK1ZMzMG4+XFLV+OxwYG4pRRluLQLCjO+VZmX7fWMrq4VHR+djp+CQaxIDh/+MHx4qzncStIURqY7f0r6BQtc6ZMVEZNURJy0RUCRZBID0cE9bfVTCi4oSMtPvEjipTqGO/e1N84omp6XlqNI8QllJiQRSZv2fdytuXna3Dw6nkvCfe3h/XU9uSX+C2Yfrx+RIgg9AAAAAAAAwFdc8oo9VY9IWvaf8pITy0+OKSdBZ3c+xT8ilJkEAAAAAAAA+CwUEavReIFT3EGc5cGWikiREsQ0WkKCSDKJr3DcgRB6AAAAAAAAAPhsmGikhKRyKj6ckRrJwpBEJEZTKnjkhxi55KsbfUDoAQAAAAAAAODMNm7cuHPnzvvuu0/TtNFqDkxE77zzzuuvv56fn3///feXl5cn39Lc3LxmzZq77747JyeHmYgEEwWDweeee66trS0QCNx6661VVVWJ69va2l555ZVgMGjbts/nW7ZsWVZWFjNHo9EXXnhh3rx5c+bMeeeddyKRyE033eSkkNTV1TU0NNx6661EtGbNmqqqqosuuug8fpWzghMuAAAAAAAAAM7sueeee+KJJ3bv3p3cuHXr1ocffrioqGjv3r133323ZVnJvWvXrv3FL37x7rvvJleaaGtre+GFFzo6OjZv3vyjH/2ovb090bVly5Znn322tbW1q6uro6PDsiznxmPHjv3qV7969dVXiejJJ598/vnnbdt2bunq6nr88cd7enp6e3sfe+yxzs7O1H2Bzw27HgAAAAAAAADOoL29vaenp7S0dNu2bXPmzEm019bW5ubm/vrXvz569OiGDRuSQwxKqf3790+fPr2urm7JkiWJdk3TPB7Pz372s/Ly8ssvv3zbtm3XXHNN4paioqJXXnllzNNt254yZUp/f/+HH37o8/ny8vISR0bMnz+/srLy3XffFUJUVFQsWLAgVZ/gC8CuBwAAAAAAAIAz2Llzp9/v/853vrN169bkdqWU2+2OxWKlpaV33nmnpmmJrtbW1o6OjsWLFzc1NYVCoTEDhkKhjIyMzMzMSCSSaNQ0LR6Pv/jii2vXru3p6Um0Symzs7OLi4ufffbZ5MAHEem6fsstt7z22murV69evHixYRjn8rXPEYQeAAAAAAAAAM5g+/bt5eXlV111VXNzczAYTLQzc2IDwhi7du1SSi1atGhgYODTTz8df4GUUiklxPGFuaZppmmuXr36+eef7+joSLQLIYLBYGVlZTAYrKioCAaDydsrrrnmmmg0GolErr322nPwqimA0AMAAAAAAADAGezcuXPq1Klz5swJh8PJcQQpZXLsIFltbW1xcXF1dXV6enptbe2YXmYWQjBzomoDEZmm6fV6V61a9ac//Wn69OmJdiFEX1/f5MmTH3/8caVULBZLHiojI6O6unrKlCmBQOAcvGoKIPQAAAAAAAAAcDodHR2HDh2qqakJBAKBQCA550LTtHA47Ha7Ozo6Xn75ZdM0nXal1K5du6ZPn87MVVVVY0IPTppGd3d3X1+f3+9PbmfmtLS0MeEMZo7FYkKISy65ZHBwcPw+C2ZO3gfx9wahBwAAAAAAAIDT2blz59DQkHMKZkVFxccff5zomjt37sDAwB133LF48eJVq1YltjC0tbXV19fPnDmTiGbNmrV9+/ZETQcpZSwWW758+TXXXFNcXPyNb3wjMZqmaR0dHUuWLLnhhhtuu+22xOEXUsrBwUFns0M0Gg0Gg2OiD6FQaHw5ib8fp0xKAQAAAAAAAAAiGhgY2LZtm3N4REtLy7Fjx+bNm5fo3bVr17p167KyspYuXZq8heGPf/zjd7/7XSKKRCIbN25cuHBhouutt95qb28PBALXX3+92+1OtEsp33jjjeHhYSml1+u99dZbE10vvvjijTfemJaWtm/fvvr6+htuuCF5hrW1tVLKSy65JAVvfw4g9AAAAAAAAAAAKYSECwAAAAAAAABIIf2krVd+MnSe5wEAAAAAAAAA/4j+PDfj9Bdg1wMAAAAAAAAApBBCDwAAAAAAAACQQigzCQAAAAAAAAAphF0PAAAAAAAAAJBCCD0AAAAAAAAAQAoh9AAAAAAAAAAAKYTQAwAAAAAAAACkEEIPAAAAAAAAAJBCCD0AAAAAAAAAQAoh9AAAAAAAAAAAKYTQAwAAAAAAAACkEEIPAAAAAAAAAJBC/x9CDASIzJ1x6AAAAABJRU5ErkJggg==)"
      ]
    },
    {
      "cell_type": "markdown",
      "metadata": {
        "id": "FuBfRd_zqdyh"
      },
      "source": [
        "## 6-2 시계열 데이터 만들기\n",
        "### 1. Timestamp 배열\n",
        "* 판다스 date_range() 함수를 사용하면 여러 개의 날짜(Timestemp)가 들어 있는 배열 형태의 시계열 데이터를 만들 수 있다."
      ]
    },
    {
      "cell_type": "code",
      "execution_count": null,
      "metadata": {
        "colab": {
          "base_uri": "https://localhost:8080/"
        },
        "id": "B1oMcZJIoA9a",
        "outputId": "b3bc11cd-b072-4090-ed9a-dbf566dd833e"
      },
      "outputs": [
        {
          "name": "stdout",
          "output_type": "stream",
          "text": [
            "DatetimeIndex(['2019-01-01 00:00:00+09:00', '2019-02-01 00:00:00+09:00',\n",
            "               '2019-03-01 00:00:00+09:00', '2019-04-01 00:00:00+09:00',\n",
            "               '2019-05-01 00:00:00+09:00', '2019-06-01 00:00:00+09:00'],\n",
            "              dtype='datetime64[ns, Asia/Seoul]', freq='MS')\n"
          ]
        }
      ],
      "source": [
        "# <예제 5-17> Timestamp 배열 만들기\n",
        "# -*- coding: utf-8 -*-\n",
        "\n",
        "# 라이브러리 불러오기\n",
        "import pandas as pd\n",
        "\n",
        "# Timestamp의 배열 만들기 - 월 간격, 월의 시작일 기준\n",
        "ts_ms = pd.date_range(start='2019-01-01',    # 날짜 범위의 시작\n",
        "                   end=None,                 # 날짜 범위의 끝\n",
        "                   periods=6,                # 생성할 Timestamp의 개수\n",
        "                   freq='MS',                # 시간 간격 (MS: 월의 시작일)\n",
        "                   tz='Asia/Seoul')          # 시간대(timezone)\n",
        "print(ts_ms)"
      ]
    },
    {
      "cell_type": "code",
      "execution_count": null,
      "metadata": {
        "colab": {
          "base_uri": "https://localhost:8080/"
        },
        "id": "eOMRz8sAoRiC",
        "outputId": "01a173df-22ad-4b7e-e519-8a2f51830da8"
      },
      "outputs": [
        {
          "name": "stdout",
          "output_type": "stream",
          "text": [
            "DatetimeIndex(['2019-01-31 00:00:00+09:00', '2019-02-28 00:00:00+09:00',\n",
            "               '2019-03-31 00:00:00+09:00', '2019-04-30 00:00:00+09:00',\n",
            "               '2019-05-31 00:00:00+09:00', '2019-06-30 00:00:00+09:00'],\n",
            "              dtype='datetime64[ns, Asia/Seoul]', freq='M')\n",
            "\n",
            "\n",
            "DatetimeIndex(['2019-01-31 00:00:00+09:00', '2019-04-30 00:00:00+09:00',\n",
            "               '2019-07-31 00:00:00+09:00', '2019-10-31 00:00:00+09:00',\n",
            "               '2020-01-31 00:00:00+09:00', '2020-04-30 00:00:00+09:00'],\n",
            "              dtype='datetime64[ns, Asia/Seoul]', freq='3M')\n"
          ]
        }
      ],
      "source": [
        "# 월 간격, 월의 마지막 날 기준\n",
        "ts_me = pd.date_range('2019-01-01', periods=6,\n",
        "                   freq='M',              # 시간 간격 (M: 월의 마지막 날)\n",
        "                   tz='Asia/Seoul')       # 시간대(timezone)\n",
        "print(ts_me)\n",
        "print('\\n')\n",
        "\n",
        "# 분기(3개월) 간격, 월의 마지막 날 기준\n",
        "ts_3m = pd.date_range('2019-01-01', periods=6,\n",
        "                   freq='3M',             # 시간 간격 (3M: 3개월)\n",
        "                   tz='Asia/Seoul')       # 시간대(timezone)\n",
        "print(ts_3m)\n"
      ]
    },
    {
      "cell_type": "markdown",
      "metadata": {
        "id": "HDLZdUmyqLs8"
      },
      "source": [
        "![image.png](data:image/png;base64,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)"
      ]
    },
    {
      "cell_type": "markdown",
      "metadata": {
        "id": "5xsVjjIZqafC"
      },
      "source": [
        "### 3. Period 배열\n",
        "* 판다스 period_range() 함수는 여러 개의 기간(Period)이 들어 있는 시계열 데이터를 만든다,"
      ]
    },
    {
      "cell_type": "code",
      "execution_count": null,
      "metadata": {
        "colab": {
          "base_uri": "https://localhost:8080/"
        },
        "id": "tZV1elyiosjL",
        "outputId": "8db6c167-aacb-4f34-9a9f-0bef7d8b73ab"
      },
      "outputs": [
        {
          "name": "stdout",
          "output_type": "stream",
          "text": [
            "PeriodIndex(['2019-01', '2019-02', '2019-03'], dtype='period[M]')\n"
          ]
        }
      ],
      "source": [
        "# <예제 5-18> Period 배열 만들기\n",
        "# -*- coding: utf-8 -*-\n",
        "\n",
        "# 라이브러리 불러오기\n",
        "import pandas as pd\n",
        "\n",
        "# Period 배열 만들기 - 1개월 길이\n",
        "pr_m = pd.period_range(start='2019-01-01',     # 날짜 범위의 시작\n",
        "                   end=None,                   # 날짜 범위의 끝\n",
        "                   periods=3,                  # 생성할 Period 개수\n",
        "                   freq='M')                   # 기간의 길이 (M: 월)\n",
        "print(pr_m)"
      ]
    },
    {
      "cell_type": "code",
      "execution_count": null,
      "metadata": {
        "colab": {
          "base_uri": "https://localhost:8080/"
        },
        "id": "ftbRYUn5pAei",
        "outputId": "56b9c033-9ca0-4226-c373-405547f99ea6"
      },
      "outputs": [
        {
          "name": "stdout",
          "output_type": "stream",
          "text": [
            "PeriodIndex(['2019-01-01 00:00', '2019-01-01 01:00', '2019-01-01 02:00'], dtype='period[H]')\n",
            "\n",
            "\n",
            "PeriodIndex(['2019-01-01 00:00', '2019-01-01 02:00', '2019-01-01 04:00'], dtype='period[2H]')\n"
          ]
        }
      ],
      "source": [
        "# Period 배열 만들기 - 1시간 길이\n",
        "pr_h = pd.period_range(start='2019-01-01',     # 날짜 범위의 시작\n",
        "                   end=None,                   # 날짜 범위의 끝\n",
        "                   periods=3,                  # 생성할 Period 개수\n",
        "                   freq='H')                   # 기간의 길이 (H: 시간)\n",
        "print(pr_h)\n",
        "print('\\n')\n",
        "\n",
        "# Period 배열 만들기 - 2시간 길이\n",
        "pr_2h = pd.period_range(start='2019-01-01',    # 날짜 범위의 시작\n",
        "                   end=None,                   # 날짜 범위의 끝\n",
        "                   periods=3,                  # 생성할 Period 개수\n",
        "                   freq='2H')                  # 기간의 길이 (H: 시간)\n",
        "print(pr_2h)"
      ]
    },
    {
      "cell_type": "markdown",
      "metadata": {
        "id": "HXKkfcPoqM1g"
      },
      "source": [
        "![image.png](data:image/png;base64,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)"
      ]
    },
    {
      "cell_type": "markdown",
      "metadata": {
        "id": "wuOmhsOpqW5N"
      },
      "source": [
        "## 6-3 시계열 데이터 활용\n",
        "### 1. 날짜 데이터 분리\n",
        "* 연-월-일 날짜 데이터에서 일부를 분리하여 추출할 수 있다.\n",
        "* 먼저 연-월-일 정보를 연, 월, 일 가각으로 구분하는 방법"
      ]
    },
    {
      "cell_type": "code",
      "execution_count": null,
      "metadata": {
        "colab": {
          "base_uri": "https://localhost:8080/"
        },
        "id": "9bivsPC4p3k_",
        "outputId": "111534f0-9901-4c66-e6c1-faadf26bf2b9"
      },
      "outputs": [
        {
          "name": "stdout",
          "output_type": "stream",
          "text": [
            "         Date  Close  Start   High    Low  Volume   new_Date\n",
            "0  2018-07-02  10100  10850  10900  10000  137977 2018-07-02\n",
            "1  2018-06-29  10700  10550  10900   9990  170253 2018-06-29\n",
            "2  2018-06-28  10400  10900  10950  10150  155769 2018-06-28\n",
            "3  2018-06-27  10900  10800  11050  10500  133548 2018-06-27\n",
            "4  2018-06-26  10800  10900  11000  10700   63039 2018-06-26\n",
            "\n",
            "\n",
            "         Date  Close  Start   High    Low  Volume   new_Date  Year  Month  Day\n",
            "0  2018-07-02  10100  10850  10900  10000  137977 2018-07-02  2018      7    2\n",
            "1  2018-06-29  10700  10550  10900   9990  170253 2018-06-29  2018      6   29\n",
            "2  2018-06-28  10400  10900  10950  10150  155769 2018-06-28  2018      6   28\n",
            "3  2018-06-27  10900  10800  11050  10500  133548 2018-06-27  2018      6   27\n",
            "4  2018-06-26  10800  10900  11000  10700   63039 2018-06-26  2018      6   26\n"
          ]
        }
      ],
      "source": [
        "# <예제 5-19> 날짜 데이터 분리\n",
        "# -*- coding: utf-8 -*-\n",
        "\n",
        "# 라이브러리 불러오기\n",
        "import pandas as pd\n",
        "\n",
        "# read_csv() 함수로 파일 읽어와서 df로 변환\n",
        "df = pd.read_csv('stock-data.csv')\n",
        "\n",
        "# 문자열인 날짜 데이터를 판다스 Timestamp로 변환\n",
        "df['new_Date'] = pd.to_datetime(df['Date'])   #df에 새로운 열로 추가\n",
        "print(df.head())\n",
        "print('\\n')\n",
        "\n",
        "# dt 속성을 이용하여 new_Date 열의 년월일 정보를 년, 월, 일로 구분\n",
        "df['Year'] = df['new_Date'].dt.year\n",
        "df['Month'] = df['new_Date'].dt.month\n",
        "df['Day'] = df['new_Date'].dt.day\n",
        "print(df.head())"
      ]
    },
    {
      "cell_type": "code",
      "execution_count": null,
      "metadata": {
        "colab": {
          "base_uri": "https://localhost:8080/"
        },
        "id": "XfE1sMeRp4Z1",
        "outputId": "e6eba853-14a3-4dbf-c456-ad54de250556"
      },
      "outputs": [
        {
          "name": "stdout",
          "output_type": "stream",
          "text": [
            "         Date  Close  Start   High    Low  Volume   new_Date  Year  Month  \\\n",
            "0  2018-07-02  10100  10850  10900  10000  137977 2018-07-02  2018      7   \n",
            "1  2018-06-29  10700  10550  10900   9990  170253 2018-06-29  2018      6   \n",
            "2  2018-06-28  10400  10900  10950  10150  155769 2018-06-28  2018      6   \n",
            "3  2018-06-27  10900  10800  11050  10500  133548 2018-06-27  2018      6   \n",
            "4  2018-06-26  10800  10900  11000  10700   63039 2018-06-26  2018      6   \n",
            "\n",
            "   Day Date_yr   Date_m  \n",
            "0    2    2018  2018-07  \n",
            "1   29    2018  2018-06  \n",
            "2   28    2018  2018-06  \n",
            "3   27    2018  2018-06  \n",
            "4   26    2018  2018-06  \n"
          ]
        }
      ],
      "source": [
        "# Timestamp를 Period로 변환하여 년월일 표기 변경하기\n",
        "df['Date_yr'] = df['new_Date'].dt.to_period(freq='A')\n",
        "df['Date_m'] = df['new_Date'].dt.to_period(freq='M')\n",
        "print(df.head())"
      ]
    },
    {
      "cell_type": "code",
      "execution_count": null,
      "metadata": {
        "colab": {
          "base_uri": "https://localhost:8080/"
        },
        "id": "kB1ydOncp8jB",
        "outputId": "2e7d89d8-8de2-4498-fafc-87360f1cf1b4"
      },
      "outputs": [
        {
          "name": "stdout",
          "output_type": "stream",
          "text": [
            "               Date  Close  Start   High    Low  Volume   new_Date  Year  \\\n",
            "Date_m                                                                     \n",
            "2018-07  2018-07-02  10100  10850  10900  10000  137977 2018-07-02  2018   \n",
            "2018-06  2018-06-29  10700  10550  10900   9990  170253 2018-06-29  2018   \n",
            "2018-06  2018-06-28  10400  10900  10950  10150  155769 2018-06-28  2018   \n",
            "2018-06  2018-06-27  10900  10800  11050  10500  133548 2018-06-27  2018   \n",
            "2018-06  2018-06-26  10800  10900  11000  10700   63039 2018-06-26  2018   \n",
            "\n",
            "         Month  Day Date_yr  \n",
            "Date_m                       \n",
            "2018-07      7    2    2018  \n",
            "2018-06      6   29    2018  \n",
            "2018-06      6   28    2018  \n",
            "2018-06      6   27    2018  \n",
            "2018-06      6   26    2018  \n"
          ]
        }
      ],
      "source": [
        "# 원하는 열을 새로운 행 인덱스로 지정\n",
        "df.set_index('Date_m', inplace=True)\n",
        "print(df.head())"
      ]
    },
    {
      "cell_type": "markdown",
      "metadata": {
        "id": "04lGEjsKqON2"
      },
      "source": [
        "![image.png](data:image/png;base64,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)"
      ]
    },
    {
      "cell_type": "markdown",
      "metadata": {
        "id": "X_dYVo_QqTp6"
      },
      "source": [
        "### 2. 날짜 인덱스 활용\n",
        "* 날짜 인덱스를 활용하면 시계열 데이터에 대한 인덱싱과 슬라이싱이 편리\n",
        "  * Timestamp로 구성된 열을 행 인덱스를 지정하면 DatetimeIndex라는 고유 속성으로 변환\n",
        "  * Period로 구성된 열을 행 인덱스로 지정하면 PeriodIndex라는 속성을 갖는다."
      ]
    },
    {
      "cell_type": "code",
      "execution_count": null,
      "metadata": {
        "colab": {
          "base_uri": "https://localhost:8080/"
        },
        "id": "jH4lrTzzrmnN",
        "outputId": "d36c603e-cc02-4530-fcae-9890d10e9214"
      },
      "outputs": [
        {
          "name": "stdout",
          "output_type": "stream",
          "text": [
            "                  Date  Close  Start   High    Low  Volume\n",
            "new_Date                                                  \n",
            "2018-07-02  2018-07-02  10100  10850  10900  10000  137977\n",
            "2018-06-29  2018-06-29  10700  10550  10900   9990  170253\n",
            "2018-06-28  2018-06-28  10400  10900  10950  10150  155769\n",
            "2018-06-27  2018-06-27  10900  10800  11050  10500  133548\n",
            "2018-06-26  2018-06-26  10800  10900  11000  10700   63039\n",
            "\n",
            "\n",
            "DatetimeIndex(['2018-07-02', '2018-06-29', '2018-06-28', '2018-06-27',\n",
            "               '2018-06-26', '2018-06-25', '2018-06-22', '2018-06-21',\n",
            "               '2018-06-20', '2018-06-19', '2018-06-18', '2018-06-15',\n",
            "               '2018-06-14', '2018-06-12', '2018-06-11', '2018-06-08',\n",
            "               '2018-06-07', '2018-06-05', '2018-06-04', '2018-06-01'],\n",
            "              dtype='datetime64[ns]', name='new_Date', freq=None)\n"
          ]
        }
      ],
      "source": [
        "# <예제 5-20> 날짜 인덱스 활용\n",
        "# -*- coding: utf-8 -*-\n",
        "\n",
        "# 라이브러리 불러오기\n",
        "import pandas as pd\n",
        "\n",
        "# read_csv() 함수로 파일 읽어와서 df로 변환\n",
        "df = pd.read_csv('stock-data.csv')\n",
        "\n",
        "# 문자열인 날짜 데이터를 판다스 Timestamp로 변환\n",
        "df['new_Date'] = pd.to_datetime(df['Date'])   # 새로운 열에 추가\n",
        "df.set_index('new_Date', inplace=True)        # 행 인덱스로 지정\n",
        "\n",
        "print(df.head())\n",
        "print('\\n')\n",
        "print(df.index)"
      ]
    },
    {
      "cell_type": "code",
      "execution_count": null,
      "metadata": {
        "colab": {
          "base_uri": "https://localhost:8080/"
        },
        "id": "4CAl1smgruxR",
        "outputId": "8b34dbca-c7e3-4551-d7a6-4dc72d902df4"
      },
      "outputs": [
        {
          "name": "stdout",
          "output_type": "stream",
          "text": [
            "                  Date  Close  Start   High    Low  Volume\n",
            "new_Date                                                  \n",
            "2018-07-02  2018-07-02  10100  10850  10900  10000  137977\n",
            "2018-06-29  2018-06-29  10700  10550  10900   9990  170253\n",
            "2018-06-28  2018-06-28  10400  10900  10950  10150  155769\n",
            "2018-06-27  2018-06-27  10900  10800  11050  10500  133548\n",
            "2018-06-26  2018-06-26  10800  10900  11000  10700   63039\n",
            "\n",
            "\n",
            "                  Date  Close  Start   High    Low  Volume\n",
            "new_Date                                                  \n",
            "2018-07-02  2018-07-02  10100  10850  10900  10000  137977\n",
            "\n",
            "\n",
            "            Start   High\n",
            "new_Date                \n",
            "2018-07-02  10850  10900\n",
            "\n",
            "\n",
            "Date      2018-07-02\n",
            "Close          10100\n",
            "Start          10850\n",
            "High           10900\n",
            "Low            10000\n",
            "Volume        137977\n",
            "Name: 2018-07-02 00:00:00, dtype: object\n",
            "\n",
            "\n",
            "                  Date  Close  Start   High    Low  Volume\n",
            "new_Date                                                  \n",
            "2018-06-25  2018-06-25  11150  11400  11450  11000   55519\n",
            "2018-06-22  2018-06-22  11300  11250  11450  10750  134805\n",
            "2018-06-21  2018-06-21  11200  11350  11750  11200  133002\n",
            "2018-06-20  2018-06-20  11550  11200  11600  10900  308596\n"
          ]
        }
      ],
      "source": [
        "# loc 인덱서 활용하여 데이터 선택하기 (교재 수정)\n",
        "df_y = df.loc['2018']\n",
        "print(df_y.head())\n",
        "print('\\n')\n",
        "df_ym = df.loc['2018-07']\n",
        "print(df_ym)\n",
        "print('\\n')\n",
        "df_ym_cols = df.loc['2018-07', 'Start':'High']    # 열 범위 슬라이싱\n",
        "print(df_ym_cols)\n",
        "print('\\n')\n",
        "df_ymd = df.loc['2018-07-02']\n",
        "print(df_ymd)\n",
        "print('\\n')\n",
        "df_ymd_range = df.loc['2018-06-20':'2018-06-25']    # 날짜 범위 지정\n",
        "print(df_ymd_range)"
      ]
    },
    {
      "cell_type": "code",
      "execution_count": null,
      "metadata": {
        "colab": {
          "base_uri": "https://localhost:8080/"
        },
        "id": "CUtK12-PsEPh",
        "outputId": "5441565b-2d96-476d-f67d-42d866dd9f80"
      },
      "outputs": [
        {
          "name": "stdout",
          "output_type": "stream",
          "text": [
            "                  Date  Close  Start   High    Low  Volume\n",
            "time_delta                                                \n",
            "180 days    2018-06-28  10400  10900  10950  10150  155769\n",
            "181 days    2018-06-27  10900  10800  11050  10500  133548\n",
            "182 days    2018-06-26  10800  10900  11000  10700   63039\n",
            "183 days    2018-06-25  11150  11400  11450  11000   55519\n",
            "186 days    2018-06-22  11300  11250  11450  10750  134805\n",
            "187 days    2018-06-21  11200  11350  11750  11200  133002\n",
            "188 days    2018-06-20  11550  11200  11600  10900  308596\n",
            "189 days    2018-06-19  11300  11850  11950  11300  180656\n"
          ]
        }
      ],
      "source": [
        "# 시간 간격 계산. 최근 180일 ~ 189일 사이의 값들만 선택하기\n",
        "today = pd.to_datetime('2018-12-25')            # 기준일 생성\n",
        "df['time_delta'] = today - df.index             # 날짜 차이 계산\n",
        "df.set_index('time_delta', inplace=True)        # 행 인덱스로 지정\n",
        "df_180 = df['180 days':'189 days']\n",
        "print(df_180)"
      ]
    },
    {
      "cell_type": "markdown",
      "metadata": {
        "id": "xkjdKWYjqPrX"
      },
      "source": [
        "![image.png](data:image/png;base64,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)"
      ]
    }
  ],
  "metadata": {
    "colab": {
      "include_colab_link": true,
      "provenance": []
    },
    "kernelspec": {
      "display_name": "Python 3",
      "name": "python3"
    },
    "language_info": {
      "name": "python"
    }
  },
  "nbformat": 4,
  "nbformat_minor": 0
}
